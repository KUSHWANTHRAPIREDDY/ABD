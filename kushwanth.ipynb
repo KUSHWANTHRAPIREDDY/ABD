{
 "cells": [
  {
   "cell_type": "code",
   "execution_count": 1,
   "id": "09778ced",
   "metadata": {
    "execution": {
     "iopub.execute_input": "2021-11-25T09:16:34.359011Z",
     "iopub.status.busy": "2021-11-25T09:16:34.357765Z",
     "iopub.status.idle": "2021-11-25T09:16:35.668340Z",
     "shell.execute_reply": "2021-11-25T09:16:35.667574Z",
     "shell.execute_reply.started": "2021-11-25T09:05:57.536233Z"
    },
    "papermill": {
     "duration": 1.376968,
     "end_time": "2021-11-25T09:16:35.668517",
     "exception": false,
     "start_time": "2021-11-25T09:16:34.291549",
     "status": "completed"
    },
    "tags": []
   },
   "outputs": [],
   "source": [
    "import pandas as pd\n",
    "import numpy as np\n",
    "import warnings\n",
    "import matplotlib.pyplot as plt\n",
    "from sklearn.model_selection import train_test_split\n",
    "import seaborn as sns\n",
    "from sklearn import preprocessing\n",
    "from sklearn.linear_model import LogisticRegression\n",
    "from sklearn.model_selection import GridSearchCV\n",
    "from sklearn.ensemble import RandomForestClassifier\n",
    "from sklearn.ensemble import ExtraTreesClassifier\n",
    "from sklearn.discriminant_analysis import LinearDiscriminantAnalysis,QuadraticDiscriminantAnalysis\n",
    "from sklearn.ensemble import GradientBoostingClassifier\n",
    "from sklearn import model_selection\n",
    "\n",
    "warnings.filterwarnings('ignore')"
   ]
  },
  {
   "cell_type": "markdown",
   "id": "88bd7dc4",
   "metadata": {
    "papermill": {
     "duration": 0.048405,
     "end_time": "2021-11-25T09:16:35.766277",
     "exception": false,
     "start_time": "2021-11-25T09:16:35.717872",
     "status": "completed"
    },
    "tags": []
   },
   "source": [
    "EDA"
   ]
  },
  {
   "cell_type": "code",
   "execution_count": 2,
   "id": "8ad3dca7",
   "metadata": {
    "execution": {
     "iopub.execute_input": "2021-11-25T09:16:35.890821Z",
     "iopub.status.busy": "2021-11-25T09:16:35.890187Z",
     "iopub.status.idle": "2021-11-25T09:16:35.925528Z",
     "shell.execute_reply": "2021-11-25T09:16:35.925989Z",
     "shell.execute_reply.started": "2021-11-25T09:05:57.543933Z"
    },
    "papermill": {
     "duration": 0.10328,
     "end_time": "2021-11-25T09:16:35.926177",
     "exception": false,
     "start_time": "2021-11-25T09:16:35.822897",
     "status": "completed"
    },
    "tags": []
   },
   "outputs": [
    {
     "data": {
      "text/html": [
       "<div>\n",
       "<style scoped>\n",
       "    .dataframe tbody tr th:only-of-type {\n",
       "        vertical-align: middle;\n",
       "    }\n",
       "\n",
       "    .dataframe tbody tr th {\n",
       "        vertical-align: top;\n",
       "    }\n",
       "\n",
       "    .dataframe thead th {\n",
       "        text-align: right;\n",
       "    }\n",
       "</style>\n",
       "<table border=\"1\" class=\"dataframe\">\n",
       "  <thead>\n",
       "    <tr style=\"text-align: right;\">\n",
       "      <th></th>\n",
       "      <th>PassengerId</th>\n",
       "      <th>Survived</th>\n",
       "      <th>Pclass</th>\n",
       "      <th>Name</th>\n",
       "      <th>Sex</th>\n",
       "      <th>Age</th>\n",
       "      <th>SibSp</th>\n",
       "      <th>Parch</th>\n",
       "      <th>Ticket</th>\n",
       "      <th>Fare</th>\n",
       "      <th>Cabin</th>\n",
       "      <th>Embarked</th>\n",
       "    </tr>\n",
       "  </thead>\n",
       "  <tbody>\n",
       "    <tr>\n",
       "      <th>0</th>\n",
       "      <td>1</td>\n",
       "      <td>0</td>\n",
       "      <td>3</td>\n",
       "      <td>Braund, Mr. Owen Harris</td>\n",
       "      <td>male</td>\n",
       "      <td>22.0</td>\n",
       "      <td>1</td>\n",
       "      <td>0</td>\n",
       "      <td>A/5 21171</td>\n",
       "      <td>7.2500</td>\n",
       "      <td>NaN</td>\n",
       "      <td>S</td>\n",
       "    </tr>\n",
       "    <tr>\n",
       "      <th>1</th>\n",
       "      <td>2</td>\n",
       "      <td>1</td>\n",
       "      <td>1</td>\n",
       "      <td>Cumings, Mrs. John Bradley (Florence Briggs Th...</td>\n",
       "      <td>female</td>\n",
       "      <td>38.0</td>\n",
       "      <td>1</td>\n",
       "      <td>0</td>\n",
       "      <td>PC 17599</td>\n",
       "      <td>71.2833</td>\n",
       "      <td>C85</td>\n",
       "      <td>C</td>\n",
       "    </tr>\n",
       "    <tr>\n",
       "      <th>2</th>\n",
       "      <td>3</td>\n",
       "      <td>1</td>\n",
       "      <td>3</td>\n",
       "      <td>Heikkinen, Miss. Laina</td>\n",
       "      <td>female</td>\n",
       "      <td>26.0</td>\n",
       "      <td>0</td>\n",
       "      <td>0</td>\n",
       "      <td>STON/O2. 3101282</td>\n",
       "      <td>7.9250</td>\n",
       "      <td>NaN</td>\n",
       "      <td>S</td>\n",
       "    </tr>\n",
       "    <tr>\n",
       "      <th>3</th>\n",
       "      <td>4</td>\n",
       "      <td>1</td>\n",
       "      <td>1</td>\n",
       "      <td>Futrelle, Mrs. Jacques Heath (Lily May Peel)</td>\n",
       "      <td>female</td>\n",
       "      <td>35.0</td>\n",
       "      <td>1</td>\n",
       "      <td>0</td>\n",
       "      <td>113803</td>\n",
       "      <td>53.1000</td>\n",
       "      <td>C123</td>\n",
       "      <td>S</td>\n",
       "    </tr>\n",
       "    <tr>\n",
       "      <th>4</th>\n",
       "      <td>5</td>\n",
       "      <td>0</td>\n",
       "      <td>3</td>\n",
       "      <td>Allen, Mr. William Henry</td>\n",
       "      <td>male</td>\n",
       "      <td>35.0</td>\n",
       "      <td>0</td>\n",
       "      <td>0</td>\n",
       "      <td>373450</td>\n",
       "      <td>8.0500</td>\n",
       "      <td>NaN</td>\n",
       "      <td>S</td>\n",
       "    </tr>\n",
       "  </tbody>\n",
       "</table>\n",
       "</div>"
      ],
      "text/plain": [
       "   PassengerId  Survived  Pclass  \\\n",
       "0            1         0       3   \n",
       "1            2         1       1   \n",
       "2            3         1       3   \n",
       "3            4         1       1   \n",
       "4            5         0       3   \n",
       "\n",
       "                                                Name     Sex   Age  SibSp  \\\n",
       "0                            Braund, Mr. Owen Harris    male  22.0      1   \n",
       "1  Cumings, Mrs. John Bradley (Florence Briggs Th...  female  38.0      1   \n",
       "2                             Heikkinen, Miss. Laina  female  26.0      0   \n",
       "3       Futrelle, Mrs. Jacques Heath (Lily May Peel)  female  35.0      1   \n",
       "4                           Allen, Mr. William Henry    male  35.0      0   \n",
       "\n",
       "   Parch            Ticket     Fare Cabin Embarked  \n",
       "0      0         A/5 21171   7.2500   NaN        S  \n",
       "1      0          PC 17599  71.2833   C85        C  \n",
       "2      0  STON/O2. 3101282   7.9250   NaN        S  \n",
       "3      0            113803  53.1000  C123        S  \n",
       "4      0            373450   8.0500   NaN        S  "
      ]
     },
     "execution_count": 2,
     "metadata": {},
     "output_type": "execute_result"
    }
   ],
   "source": [
    "train = pd.read_csv('../input/titanic/train.csv')\n",
    "train.head()"
   ]
  },
  {
   "cell_type": "code",
   "execution_count": 3,
   "id": "1d8167d6",
   "metadata": {
    "execution": {
     "iopub.execute_input": "2021-11-25T09:16:36.025991Z",
     "iopub.status.busy": "2021-11-25T09:16:36.025427Z",
     "iopub.status.idle": "2021-11-25T09:16:36.046604Z",
     "shell.execute_reply": "2021-11-25T09:16:36.047006Z",
     "shell.execute_reply.started": "2021-11-25T09:05:57.584224Z"
    },
    "papermill": {
     "duration": 0.072398,
     "end_time": "2021-11-25T09:16:36.047178",
     "exception": false,
     "start_time": "2021-11-25T09:16:35.974780",
     "status": "completed"
    },
    "tags": []
   },
   "outputs": [
    {
     "data": {
      "text/html": [
       "<div>\n",
       "<style scoped>\n",
       "    .dataframe tbody tr th:only-of-type {\n",
       "        vertical-align: middle;\n",
       "    }\n",
       "\n",
       "    .dataframe tbody tr th {\n",
       "        vertical-align: top;\n",
       "    }\n",
       "\n",
       "    .dataframe thead th {\n",
       "        text-align: right;\n",
       "    }\n",
       "</style>\n",
       "<table border=\"1\" class=\"dataframe\">\n",
       "  <thead>\n",
       "    <tr style=\"text-align: right;\">\n",
       "      <th></th>\n",
       "      <th>PassengerId</th>\n",
       "      <th>Pclass</th>\n",
       "      <th>Name</th>\n",
       "      <th>Sex</th>\n",
       "      <th>Age</th>\n",
       "      <th>SibSp</th>\n",
       "      <th>Parch</th>\n",
       "      <th>Ticket</th>\n",
       "      <th>Fare</th>\n",
       "      <th>Cabin</th>\n",
       "      <th>Embarked</th>\n",
       "    </tr>\n",
       "  </thead>\n",
       "  <tbody>\n",
       "    <tr>\n",
       "      <th>0</th>\n",
       "      <td>892</td>\n",
       "      <td>3</td>\n",
       "      <td>Kelly, Mr. James</td>\n",
       "      <td>male</td>\n",
       "      <td>34.5</td>\n",
       "      <td>0</td>\n",
       "      <td>0</td>\n",
       "      <td>330911</td>\n",
       "      <td>7.8292</td>\n",
       "      <td>NaN</td>\n",
       "      <td>Q</td>\n",
       "    </tr>\n",
       "    <tr>\n",
       "      <th>1</th>\n",
       "      <td>893</td>\n",
       "      <td>3</td>\n",
       "      <td>Wilkes, Mrs. James (Ellen Needs)</td>\n",
       "      <td>female</td>\n",
       "      <td>47.0</td>\n",
       "      <td>1</td>\n",
       "      <td>0</td>\n",
       "      <td>363272</td>\n",
       "      <td>7.0000</td>\n",
       "      <td>NaN</td>\n",
       "      <td>S</td>\n",
       "    </tr>\n",
       "    <tr>\n",
       "      <th>2</th>\n",
       "      <td>894</td>\n",
       "      <td>2</td>\n",
       "      <td>Myles, Mr. Thomas Francis</td>\n",
       "      <td>male</td>\n",
       "      <td>62.0</td>\n",
       "      <td>0</td>\n",
       "      <td>0</td>\n",
       "      <td>240276</td>\n",
       "      <td>9.6875</td>\n",
       "      <td>NaN</td>\n",
       "      <td>Q</td>\n",
       "    </tr>\n",
       "    <tr>\n",
       "      <th>3</th>\n",
       "      <td>895</td>\n",
       "      <td>3</td>\n",
       "      <td>Wirz, Mr. Albert</td>\n",
       "      <td>male</td>\n",
       "      <td>27.0</td>\n",
       "      <td>0</td>\n",
       "      <td>0</td>\n",
       "      <td>315154</td>\n",
       "      <td>8.6625</td>\n",
       "      <td>NaN</td>\n",
       "      <td>S</td>\n",
       "    </tr>\n",
       "    <tr>\n",
       "      <th>4</th>\n",
       "      <td>896</td>\n",
       "      <td>3</td>\n",
       "      <td>Hirvonen, Mrs. Alexander (Helga E Lindqvist)</td>\n",
       "      <td>female</td>\n",
       "      <td>22.0</td>\n",
       "      <td>1</td>\n",
       "      <td>1</td>\n",
       "      <td>3101298</td>\n",
       "      <td>12.2875</td>\n",
       "      <td>NaN</td>\n",
       "      <td>S</td>\n",
       "    </tr>\n",
       "  </tbody>\n",
       "</table>\n",
       "</div>"
      ],
      "text/plain": [
       "   PassengerId  Pclass                                          Name     Sex  \\\n",
       "0          892       3                              Kelly, Mr. James    male   \n",
       "1          893       3              Wilkes, Mrs. James (Ellen Needs)  female   \n",
       "2          894       2                     Myles, Mr. Thomas Francis    male   \n",
       "3          895       3                              Wirz, Mr. Albert    male   \n",
       "4          896       3  Hirvonen, Mrs. Alexander (Helga E Lindqvist)  female   \n",
       "\n",
       "    Age  SibSp  Parch   Ticket     Fare Cabin Embarked  \n",
       "0  34.5      0      0   330911   7.8292   NaN        Q  \n",
       "1  47.0      1      0   363272   7.0000   NaN        S  \n",
       "2  62.0      0      0   240276   9.6875   NaN        Q  \n",
       "3  27.0      0      0   315154   8.6625   NaN        S  \n",
       "4  22.0      1      1  3101298  12.2875   NaN        S  "
      ]
     },
     "execution_count": 3,
     "metadata": {},
     "output_type": "execute_result"
    }
   ],
   "source": [
    "test = pd.read_csv('../input/titanic/test.csv')\n",
    "test.head()"
   ]
  },
  {
   "cell_type": "code",
   "execution_count": 4,
   "id": "190d2b0a",
   "metadata": {
    "execution": {
     "iopub.execute_input": "2021-11-25T09:16:36.148681Z",
     "iopub.status.busy": "2021-11-25T09:16:36.148068Z",
     "iopub.status.idle": "2021-11-25T09:16:36.167781Z",
     "shell.execute_reply": "2021-11-25T09:16:36.168473Z",
     "shell.execute_reply.started": "2021-11-25T09:05:57.786964Z"
    },
    "papermill": {
     "duration": 0.072035,
     "end_time": "2021-11-25T09:16:36.168639",
     "exception": false,
     "start_time": "2021-11-25T09:16:36.096604",
     "status": "completed"
    },
    "tags": []
   },
   "outputs": [
    {
     "name": "stdout",
     "output_type": "stream",
     "text": [
      "<class 'pandas.core.frame.DataFrame'>\n",
      "RangeIndex: 891 entries, 0 to 890\n",
      "Data columns (total 12 columns):\n",
      " #   Column       Non-Null Count  Dtype  \n",
      "---  ------       --------------  -----  \n",
      " 0   PassengerId  891 non-null    int64  \n",
      " 1   Survived     891 non-null    int64  \n",
      " 2   Pclass       891 non-null    int64  \n",
      " 3   Name         891 non-null    object \n",
      " 4   Sex          891 non-null    object \n",
      " 5   Age          714 non-null    float64\n",
      " 6   SibSp        891 non-null    int64  \n",
      " 7   Parch        891 non-null    int64  \n",
      " 8   Ticket       891 non-null    object \n",
      " 9   Fare         891 non-null    float64\n",
      " 10  Cabin        204 non-null    object \n",
      " 11  Embarked     889 non-null    object \n",
      "dtypes: float64(2), int64(5), object(5)\n",
      "memory usage: 83.7+ KB\n"
     ]
    }
   ],
   "source": [
    "train.info()"
   ]
  },
  {
   "cell_type": "code",
   "execution_count": 5,
   "id": "d3b69038",
   "metadata": {
    "execution": {
     "iopub.execute_input": "2021-11-25T09:16:36.326268Z",
     "iopub.status.busy": "2021-11-25T09:16:36.325649Z",
     "iopub.status.idle": "2021-11-25T09:16:36.337682Z",
     "shell.execute_reply": "2021-11-25T09:16:36.338195Z",
     "shell.execute_reply.started": "2021-11-25T09:05:57.804463Z"
    },
    "papermill": {
     "duration": 0.119894,
     "end_time": "2021-11-25T09:16:36.338363",
     "exception": false,
     "start_time": "2021-11-25T09:16:36.218469",
     "status": "completed"
    },
    "tags": []
   },
   "outputs": [
    {
     "name": "stdout",
     "output_type": "stream",
     "text": [
      "<class 'pandas.core.frame.DataFrame'>\n",
      "RangeIndex: 418 entries, 0 to 417\n",
      "Data columns (total 11 columns):\n",
      " #   Column       Non-Null Count  Dtype  \n",
      "---  ------       --------------  -----  \n",
      " 0   PassengerId  418 non-null    int64  \n",
      " 1   Pclass       418 non-null    int64  \n",
      " 2   Name         418 non-null    object \n",
      " 3   Sex          418 non-null    object \n",
      " 4   Age          332 non-null    float64\n",
      " 5   SibSp        418 non-null    int64  \n",
      " 6   Parch        418 non-null    int64  \n",
      " 7   Ticket       418 non-null    object \n",
      " 8   Fare         417 non-null    float64\n",
      " 9   Cabin        91 non-null     object \n",
      " 10  Embarked     418 non-null    object \n",
      "dtypes: float64(2), int64(4), object(5)\n",
      "memory usage: 36.0+ KB\n"
     ]
    }
   ],
   "source": [
    "test.info()"
   ]
  },
  {
   "cell_type": "code",
   "execution_count": 6,
   "id": "789fea03",
   "metadata": {
    "execution": {
     "iopub.execute_input": "2021-11-25T09:16:36.442115Z",
     "iopub.status.busy": "2021-11-25T09:16:36.441452Z",
     "iopub.status.idle": "2021-11-25T09:16:36.469156Z",
     "shell.execute_reply": "2021-11-25T09:16:36.469717Z",
     "shell.execute_reply.started": "2021-11-25T09:05:57.823756Z"
    },
    "papermill": {
     "duration": 0.08148,
     "end_time": "2021-11-25T09:16:36.469876",
     "exception": false,
     "start_time": "2021-11-25T09:16:36.388396",
     "status": "completed"
    },
    "tags": []
   },
   "outputs": [
    {
     "data": {
      "text/html": [
       "<div>\n",
       "<style scoped>\n",
       "    .dataframe tbody tr th:only-of-type {\n",
       "        vertical-align: middle;\n",
       "    }\n",
       "\n",
       "    .dataframe tbody tr th {\n",
       "        vertical-align: top;\n",
       "    }\n",
       "\n",
       "    .dataframe thead th {\n",
       "        text-align: right;\n",
       "    }\n",
       "</style>\n",
       "<table border=\"1\" class=\"dataframe\">\n",
       "  <thead>\n",
       "    <tr style=\"text-align: right;\">\n",
       "      <th></th>\n",
       "      <th>PassengerId</th>\n",
       "      <th>Survived</th>\n",
       "      <th>Pclass</th>\n",
       "      <th>Age</th>\n",
       "      <th>SibSp</th>\n",
       "      <th>Parch</th>\n",
       "      <th>Fare</th>\n",
       "    </tr>\n",
       "  </thead>\n",
       "  <tbody>\n",
       "    <tr>\n",
       "      <th>count</th>\n",
       "      <td>891.000000</td>\n",
       "      <td>891.000000</td>\n",
       "      <td>891.000000</td>\n",
       "      <td>714.000000</td>\n",
       "      <td>891.000000</td>\n",
       "      <td>891.000000</td>\n",
       "      <td>891.000000</td>\n",
       "    </tr>\n",
       "    <tr>\n",
       "      <th>mean</th>\n",
       "      <td>446.000000</td>\n",
       "      <td>0.383838</td>\n",
       "      <td>2.308642</td>\n",
       "      <td>29.699118</td>\n",
       "      <td>0.523008</td>\n",
       "      <td>0.381594</td>\n",
       "      <td>32.204208</td>\n",
       "    </tr>\n",
       "    <tr>\n",
       "      <th>std</th>\n",
       "      <td>257.353842</td>\n",
       "      <td>0.486592</td>\n",
       "      <td>0.836071</td>\n",
       "      <td>14.526497</td>\n",
       "      <td>1.102743</td>\n",
       "      <td>0.806057</td>\n",
       "      <td>49.693429</td>\n",
       "    </tr>\n",
       "    <tr>\n",
       "      <th>min</th>\n",
       "      <td>1.000000</td>\n",
       "      <td>0.000000</td>\n",
       "      <td>1.000000</td>\n",
       "      <td>0.420000</td>\n",
       "      <td>0.000000</td>\n",
       "      <td>0.000000</td>\n",
       "      <td>0.000000</td>\n",
       "    </tr>\n",
       "    <tr>\n",
       "      <th>25%</th>\n",
       "      <td>223.500000</td>\n",
       "      <td>0.000000</td>\n",
       "      <td>2.000000</td>\n",
       "      <td>20.125000</td>\n",
       "      <td>0.000000</td>\n",
       "      <td>0.000000</td>\n",
       "      <td>7.910400</td>\n",
       "    </tr>\n",
       "    <tr>\n",
       "      <th>50%</th>\n",
       "      <td>446.000000</td>\n",
       "      <td>0.000000</td>\n",
       "      <td>3.000000</td>\n",
       "      <td>28.000000</td>\n",
       "      <td>0.000000</td>\n",
       "      <td>0.000000</td>\n",
       "      <td>14.454200</td>\n",
       "    </tr>\n",
       "    <tr>\n",
       "      <th>75%</th>\n",
       "      <td>668.500000</td>\n",
       "      <td>1.000000</td>\n",
       "      <td>3.000000</td>\n",
       "      <td>38.000000</td>\n",
       "      <td>1.000000</td>\n",
       "      <td>0.000000</td>\n",
       "      <td>31.000000</td>\n",
       "    </tr>\n",
       "    <tr>\n",
       "      <th>max</th>\n",
       "      <td>891.000000</td>\n",
       "      <td>1.000000</td>\n",
       "      <td>3.000000</td>\n",
       "      <td>80.000000</td>\n",
       "      <td>8.000000</td>\n",
       "      <td>6.000000</td>\n",
       "      <td>512.329200</td>\n",
       "    </tr>\n",
       "  </tbody>\n",
       "</table>\n",
       "</div>"
      ],
      "text/plain": [
       "       PassengerId    Survived      Pclass         Age       SibSp  \\\n",
       "count   891.000000  891.000000  891.000000  714.000000  891.000000   \n",
       "mean    446.000000    0.383838    2.308642   29.699118    0.523008   \n",
       "std     257.353842    0.486592    0.836071   14.526497    1.102743   \n",
       "min       1.000000    0.000000    1.000000    0.420000    0.000000   \n",
       "25%     223.500000    0.000000    2.000000   20.125000    0.000000   \n",
       "50%     446.000000    0.000000    3.000000   28.000000    0.000000   \n",
       "75%     668.500000    1.000000    3.000000   38.000000    1.000000   \n",
       "max     891.000000    1.000000    3.000000   80.000000    8.000000   \n",
       "\n",
       "            Parch        Fare  \n",
       "count  891.000000  891.000000  \n",
       "mean     0.381594   32.204208  \n",
       "std      0.806057   49.693429  \n",
       "min      0.000000    0.000000  \n",
       "25%      0.000000    7.910400  \n",
       "50%      0.000000   14.454200  \n",
       "75%      0.000000   31.000000  \n",
       "max      6.000000  512.329200  "
      ]
     },
     "execution_count": 6,
     "metadata": {},
     "output_type": "execute_result"
    }
   ],
   "source": [
    "train.describe()"
   ]
  },
  {
   "cell_type": "code",
   "execution_count": 7,
   "id": "883bb91e",
   "metadata": {
    "execution": {
     "iopub.execute_input": "2021-11-25T09:16:36.576736Z",
     "iopub.status.busy": "2021-11-25T09:16:36.576160Z",
     "iopub.status.idle": "2021-11-25T09:16:36.599660Z",
     "shell.execute_reply": "2021-11-25T09:16:36.600147Z",
     "shell.execute_reply.started": "2021-11-25T09:05:57.865785Z"
    },
    "papermill": {
     "duration": 0.078337,
     "end_time": "2021-11-25T09:16:36.600319",
     "exception": false,
     "start_time": "2021-11-25T09:16:36.521982",
     "status": "completed"
    },
    "tags": []
   },
   "outputs": [
    {
     "data": {
      "text/html": [
       "<div>\n",
       "<style scoped>\n",
       "    .dataframe tbody tr th:only-of-type {\n",
       "        vertical-align: middle;\n",
       "    }\n",
       "\n",
       "    .dataframe tbody tr th {\n",
       "        vertical-align: top;\n",
       "    }\n",
       "\n",
       "    .dataframe thead th {\n",
       "        text-align: right;\n",
       "    }\n",
       "</style>\n",
       "<table border=\"1\" class=\"dataframe\">\n",
       "  <thead>\n",
       "    <tr style=\"text-align: right;\">\n",
       "      <th></th>\n",
       "      <th>PassengerId</th>\n",
       "      <th>Pclass</th>\n",
       "      <th>Age</th>\n",
       "      <th>SibSp</th>\n",
       "      <th>Parch</th>\n",
       "      <th>Fare</th>\n",
       "    </tr>\n",
       "  </thead>\n",
       "  <tbody>\n",
       "    <tr>\n",
       "      <th>count</th>\n",
       "      <td>418.000000</td>\n",
       "      <td>418.000000</td>\n",
       "      <td>332.000000</td>\n",
       "      <td>418.000000</td>\n",
       "      <td>418.000000</td>\n",
       "      <td>417.000000</td>\n",
       "    </tr>\n",
       "    <tr>\n",
       "      <th>mean</th>\n",
       "      <td>1100.500000</td>\n",
       "      <td>2.265550</td>\n",
       "      <td>30.272590</td>\n",
       "      <td>0.447368</td>\n",
       "      <td>0.392344</td>\n",
       "      <td>35.627188</td>\n",
       "    </tr>\n",
       "    <tr>\n",
       "      <th>std</th>\n",
       "      <td>120.810458</td>\n",
       "      <td>0.841838</td>\n",
       "      <td>14.181209</td>\n",
       "      <td>0.896760</td>\n",
       "      <td>0.981429</td>\n",
       "      <td>55.907576</td>\n",
       "    </tr>\n",
       "    <tr>\n",
       "      <th>min</th>\n",
       "      <td>892.000000</td>\n",
       "      <td>1.000000</td>\n",
       "      <td>0.170000</td>\n",
       "      <td>0.000000</td>\n",
       "      <td>0.000000</td>\n",
       "      <td>0.000000</td>\n",
       "    </tr>\n",
       "    <tr>\n",
       "      <th>25%</th>\n",
       "      <td>996.250000</td>\n",
       "      <td>1.000000</td>\n",
       "      <td>21.000000</td>\n",
       "      <td>0.000000</td>\n",
       "      <td>0.000000</td>\n",
       "      <td>7.895800</td>\n",
       "    </tr>\n",
       "    <tr>\n",
       "      <th>50%</th>\n",
       "      <td>1100.500000</td>\n",
       "      <td>3.000000</td>\n",
       "      <td>27.000000</td>\n",
       "      <td>0.000000</td>\n",
       "      <td>0.000000</td>\n",
       "      <td>14.454200</td>\n",
       "    </tr>\n",
       "    <tr>\n",
       "      <th>75%</th>\n",
       "      <td>1204.750000</td>\n",
       "      <td>3.000000</td>\n",
       "      <td>39.000000</td>\n",
       "      <td>1.000000</td>\n",
       "      <td>0.000000</td>\n",
       "      <td>31.500000</td>\n",
       "    </tr>\n",
       "    <tr>\n",
       "      <th>max</th>\n",
       "      <td>1309.000000</td>\n",
       "      <td>3.000000</td>\n",
       "      <td>76.000000</td>\n",
       "      <td>8.000000</td>\n",
       "      <td>9.000000</td>\n",
       "      <td>512.329200</td>\n",
       "    </tr>\n",
       "  </tbody>\n",
       "</table>\n",
       "</div>"
      ],
      "text/plain": [
       "       PassengerId      Pclass         Age       SibSp       Parch        Fare\n",
       "count   418.000000  418.000000  332.000000  418.000000  418.000000  417.000000\n",
       "mean   1100.500000    2.265550   30.272590    0.447368    0.392344   35.627188\n",
       "std     120.810458    0.841838   14.181209    0.896760    0.981429   55.907576\n",
       "min     892.000000    1.000000    0.170000    0.000000    0.000000    0.000000\n",
       "25%     996.250000    1.000000   21.000000    0.000000    0.000000    7.895800\n",
       "50%    1100.500000    3.000000   27.000000    0.000000    0.000000   14.454200\n",
       "75%    1204.750000    3.000000   39.000000    1.000000    0.000000   31.500000\n",
       "max    1309.000000    3.000000   76.000000    8.000000    9.000000  512.329200"
      ]
     },
     "execution_count": 7,
     "metadata": {},
     "output_type": "execute_result"
    }
   ],
   "source": [
    "test.describe()"
   ]
  },
  {
   "cell_type": "code",
   "execution_count": 8,
   "id": "1e653152",
   "metadata": {
    "execution": {
     "iopub.execute_input": "2021-11-25T09:16:36.719885Z",
     "iopub.status.busy": "2021-11-25T09:16:36.708031Z",
     "iopub.status.idle": "2021-11-25T09:16:36.721553Z",
     "shell.execute_reply": "2021-11-25T09:16:36.721957Z",
     "shell.execute_reply.started": "2021-11-25T09:05:57.893774Z"
    },
    "papermill": {
     "duration": 0.069106,
     "end_time": "2021-11-25T09:16:36.722112",
     "exception": false,
     "start_time": "2021-11-25T09:16:36.653006",
     "status": "completed"
    },
    "tags": []
   },
   "outputs": [],
   "source": [
    "fare_mean=train['Fare'].mean()#数据填充\n",
    "test.loc[pd.isnull(test.Fare),'Fare'] = fare_mean\n",
    "embarked_mode=train['Embarked'].mode()\n",
    "train.loc[pd.isnull(train.Embarked),['Embarked']]=embarked_mode[0]\n",
    "train.loc[pd.isnull(train.Age),['Age']] = train['Age'].mean()\n",
    "test.loc[pd.isnull(test.Age),['Age']]=train['Age'].mean()"
   ]
  },
  {
   "cell_type": "code",
   "execution_count": 9,
   "id": "b95e77ab",
   "metadata": {
    "execution": {
     "iopub.execute_input": "2021-11-25T09:16:36.832349Z",
     "iopub.status.busy": "2021-11-25T09:16:36.831698Z",
     "iopub.status.idle": "2021-11-25T09:16:36.838539Z",
     "shell.execute_reply": "2021-11-25T09:16:36.839110Z",
     "shell.execute_reply.started": "2021-11-25T09:05:57.909978Z"
    },
    "papermill": {
     "duration": 0.065259,
     "end_time": "2021-11-25T09:16:36.839284",
     "exception": false,
     "start_time": "2021-11-25T09:16:36.774025",
     "status": "completed"
    },
    "tags": []
   },
   "outputs": [],
   "source": [
    "label = train['Survived']\n",
    "train.drop('Survived',axis=1,inplace=True)\n",
    "X_train,X_test,Y_train,Y_test = train_test_split(train,label,test_size = 0.3,random_state = 1)\n",
    "X_train['Survived'] = Y_train \n",
    "X_test['Survived'] = Y_test "
   ]
  },
  {
   "cell_type": "code",
   "execution_count": 10,
   "id": "f3a670bc",
   "metadata": {
    "execution": {
     "iopub.execute_input": "2021-11-25T09:16:36.947189Z",
     "iopub.status.busy": "2021-11-25T09:16:36.946563Z",
     "iopub.status.idle": "2021-11-25T09:16:37.411219Z",
     "shell.execute_reply": "2021-11-25T09:16:37.410708Z",
     "shell.execute_reply.started": "2021-11-25T09:05:57.927149Z"
    },
    "papermill": {
     "duration": 0.519924,
     "end_time": "2021-11-25T09:16:37.411355",
     "exception": false,
     "start_time": "2021-11-25T09:16:36.891431",
     "status": "completed"
    },
    "tags": []
   },
   "outputs": [
    {
     "data": {
      "text/plain": [
       "<AxesSubplot:xlabel='Sex', ylabel='Survived'>"
      ]
     },
     "execution_count": 10,
     "metadata": {},
     "output_type": "execute_result"
    },
    {
     "data": {
      "image/png": "[encoded data removed]",
      "text/plain": [
       "<Figure size 1080x360 with 2 Axes>"
      ]
     },
     "metadata": {
      "needs_background": "light"
     },
     "output_type": "display_data"
    }
   ],
   "source": [
    "fig,(axis1,axis2)=plt.subplots(1,2,figsize=(15,5))\n",
    "sns.barplot('Sex','Survived',data=X_train,ax=axis1)\n",
    "sns.barplot('Sex','Survived',data=X_test,ax=axis2)"
   ]
  },
  {
   "cell_type": "code",
   "execution_count": 11,
   "id": "89441ae4",
   "metadata": {
    "execution": {
     "iopub.execute_input": "2021-11-25T09:16:37.519358Z",
     "iopub.status.busy": "2021-11-25T09:16:37.518748Z",
     "iopub.status.idle": "2021-11-25T09:16:37.534665Z",
     "shell.execute_reply": "2021-11-25T09:16:37.534177Z",
     "shell.execute_reply.started": "2021-11-25T09:05:58.271193Z"
    },
    "papermill": {
     "duration": 0.071453,
     "end_time": "2021-11-25T09:16:37.534800",
     "exception": false,
     "start_time": "2021-11-25T09:16:37.463347",
     "status": "completed"
    },
    "tags": []
   },
   "outputs": [],
   "source": [
    "train['Sex']=train['Sex'].apply(lambda x:1 if x =='male' else 0)\n",
    "test['Sex']=test['Sex'].apply(lambda x:1 if x =='male' else 0)\n",
    "train = pd.get_dummies(data =train,columns=['Sex'])\n",
    "test=pd.get_dummies(data = test,columns=['Sex'])"
   ]
  },
  {
   "cell_type": "code",
   "execution_count": 12,
   "id": "1c9d800d",
   "metadata": {
    "execution": {
     "iopub.execute_input": "2021-11-25T09:16:37.644927Z",
     "iopub.status.busy": "2021-11-25T09:16:37.644294Z",
     "iopub.status.idle": "2021-11-25T09:16:37.647307Z",
     "shell.execute_reply": "2021-11-25T09:16:37.646729Z",
     "shell.execute_reply.started": "2021-11-25T09:05:58.295772Z"
    },
    "papermill": {
     "duration": 0.059691,
     "end_time": "2021-11-25T09:16:37.647475",
     "exception": false,
     "start_time": "2021-11-25T09:16:37.587784",
     "status": "completed"
    },
    "tags": []
   },
   "outputs": [],
   "source": [
    "def Name_Title_Code(x):\n",
    "    if x == 'Mr.':\n",
    "        return 1\n",
    "    if (x == 'Mrs.') or (x=='Ms.') or (x=='Lady.') or (x == 'Mlle.') or (x =='Mme'):\n",
    "        return 2\n",
    "    if x == 'Miss':\n",
    "        return 3\n",
    "    if x == 'Rev.':\n",
    "        return 4\n",
    "    return 5"
   ]
  },
  {
   "cell_type": "code",
   "execution_count": 13,
   "id": "833c7e78",
   "metadata": {
    "execution": {
     "iopub.execute_input": "2021-11-25T09:16:37.763781Z",
     "iopub.status.busy": "2021-11-25T09:16:37.763147Z",
     "iopub.status.idle": "2021-11-25T09:16:37.765864Z",
     "shell.execute_reply": "2021-11-25T09:16:37.765356Z",
     "shell.execute_reply.started": "2021-11-25T09:05:58.314818Z"
    },
    "papermill": {
     "duration": 0.065278,
     "end_time": "2021-11-25T09:16:37.766007",
     "exception": false,
     "start_time": "2021-11-25T09:16:37.700729",
     "status": "completed"
    },
    "tags": []
   },
   "outputs": [],
   "source": [
    "X_train['Name_Title'] = X_train['Name'].apply(lambda x: x.split(',')[1]).apply(lambda x: x.split()[0])\n",
    "X_test['Name_Title'] = X_test['Name'].apply(lambda x: x.split(',')[1]).apply(lambda x: x.split()[0])"
   ]
  },
  {
   "cell_type": "code",
   "execution_count": 14,
   "id": "d3128fa1",
   "metadata": {
    "execution": {
     "iopub.execute_input": "2021-11-25T09:16:37.878385Z",
     "iopub.status.busy": "2021-11-25T09:16:37.877760Z",
     "iopub.status.idle": "2021-11-25T09:16:37.880988Z",
     "shell.execute_reply": "2021-11-25T09:16:37.881408Z",
     "shell.execute_reply.started": "2021-11-25T09:05:58.336215Z"
    },
    "papermill": {
     "duration": 0.063117,
     "end_time": "2021-11-25T09:16:37.881558",
     "exception": false,
     "start_time": "2021-11-25T09:16:37.818441",
     "status": "completed"
    },
    "tags": []
   },
   "outputs": [
    {
     "data": {
      "text/plain": [
       "Name_Title\n",
       "Capt.        1\n",
       "Col.         2\n",
       "Don.         1\n",
       "Dr.          4\n",
       "Lady.        1\n",
       "Major.       1\n",
       "Master.     27\n",
       "Miss.      126\n",
       "Mlle.        1\n",
       "Mme.         1\n",
       "Mr.        365\n",
       "Mrs.        87\n",
       "Rev.         5\n",
       "the          1\n",
       "Name: Survived, dtype: int64"
      ]
     },
     "execution_count": 14,
     "metadata": {},
     "output_type": "execute_result"
    }
   ],
   "source": [
    "X_train.groupby('Name_Title')['Survived'].count()"
   ]
  },
  {
   "cell_type": "code",
   "execution_count": 15,
   "id": "85093db1",
   "metadata": {
    "execution": {
     "iopub.execute_input": "2021-11-25T09:16:38.036446Z",
     "iopub.status.busy": "2021-11-25T09:16:38.032121Z",
     "iopub.status.idle": "2021-11-25T09:16:38.825363Z",
     "shell.execute_reply": "2021-11-25T09:16:38.824810Z",
     "shell.execute_reply.started": "2021-11-25T09:05:58.352623Z"
    },
    "papermill": {
     "duration": 0.891457,
     "end_time": "2021-11-25T09:16:38.825528",
     "exception": false,
     "start_time": "2021-11-25T09:16:37.934071",
     "status": "completed"
    },
    "tags": []
   },
   "outputs": [
    {
     "data": {
      "text/plain": [
       "<AxesSubplot:xlabel='Name_Title', ylabel='Survived'>"
      ]
     },
     "execution_count": 15,
     "metadata": {},
     "output_type": "execute_result"
    },
    {
     "data": {
      "image/png": "[encoded data removed]",
      "text/plain": [
       "<Figure size 1080x360 with 2 Axes>"
      ]
     },
     "metadata": {
      "needs_background": "light"
     },
     "output_type": "display_data"
    }
   ],
   "source": [
    "fig, (axis1,axis2) = plt.subplots(1,2,figsize=(15,5))\n",
    "sns.barplot('Name_Title', 'Survived', data=X_train.sort_values('Name_Title'), ax=axis1) \n",
    "sns.barplot('Name_Title', 'Survived', data=X_test.sort_values('Name_Title'), ax=axis2) "
   ]
  },
  {
   "cell_type": "code",
   "execution_count": 16,
   "id": "985991cd",
   "metadata": {
    "execution": {
     "iopub.execute_input": "2021-11-25T09:16:38.939887Z",
     "iopub.status.busy": "2021-11-25T09:16:38.938880Z",
     "iopub.status.idle": "2021-11-25T09:16:38.941530Z",
     "shell.execute_reply": "2021-11-25T09:16:38.940931Z",
     "shell.execute_reply.started": "2021-11-25T09:05:59.001503Z"
    },
    "papermill": {
     "duration": 0.06183,
     "end_time": "2021-11-25T09:16:38.941658",
     "exception": false,
     "start_time": "2021-11-25T09:16:38.879828",
     "status": "completed"
    },
    "tags": []
   },
   "outputs": [],
   "source": [
    "def Name_Title_Code(x):\n",
    "    if x == 'Mr.':\n",
    "        return 1\n",
    "    if (x == 'Mrs.') or (x=='Ms.') or (x=='Lady.') or (x == 'Mlle.') or (x =='Mme'):\n",
    "        return 2\n",
    "    if x == 'Miss':\n",
    "        return 3\n",
    "    if x == 'Rev.':\n",
    "        return 4\n",
    "    return 5"
   ]
  },
  {
   "cell_type": "code",
   "execution_count": 17,
   "id": "7f814651",
   "metadata": {
    "execution": {
     "iopub.execute_input": "2021-11-25T09:16:39.053599Z",
     "iopub.status.busy": "2021-11-25T09:16:39.052699Z",
     "iopub.status.idle": "2021-11-25T09:16:39.064534Z",
     "shell.execute_reply": "2021-11-25T09:16:39.065064Z",
     "shell.execute_reply.started": "2021-11-25T09:05:59.007996Z"
    },
    "papermill": {
     "duration": 0.070346,
     "end_time": "2021-11-25T09:16:39.065254",
     "exception": false,
     "start_time": "2021-11-25T09:16:38.994908",
     "status": "completed"
    },
    "tags": []
   },
   "outputs": [],
   "source": [
    "train['Name_Title'] = train['Name'].apply(lambda x: x.split(',')[1]).apply(lambda x: x.split()[0])\n",
    "test['Name_Title'] = test['Name'].apply(lambda x: x.split(',')[1]).apply(lambda x: x.split()[0])\n",
    "train['Name_Title'] = train['Name_Title'].apply(Name_Title_Code)\n",
    "test['Name_Title'] = test['Name_Title'].apply(Name_Title_Code)"
   ]
  },
  {
   "cell_type": "code",
   "execution_count": 18,
   "id": "b946499a",
   "metadata": {
    "execution": {
     "iopub.execute_input": "2021-11-25T09:16:39.175785Z",
     "iopub.status.busy": "2021-11-25T09:16:39.174887Z",
     "iopub.status.idle": "2021-11-25T09:16:39.186946Z",
     "shell.execute_reply": "2021-11-25T09:16:39.187501Z",
     "shell.execute_reply.started": "2021-11-25T09:05:59.036629Z"
    },
    "papermill": {
     "duration": 0.069323,
     "end_time": "2021-11-25T09:16:39.187694",
     "exception": false,
     "start_time": "2021-11-25T09:16:39.118371",
     "status": "completed"
    },
    "tags": []
   },
   "outputs": [],
   "source": [
    "train = pd.get_dummies(columns = ['Name_Title'], data = train)\n",
    "test = pd.get_dummies(columns = ['Name_Title'], data = test)"
   ]
  },
  {
   "cell_type": "code",
   "execution_count": 19,
   "id": "6f2c2c43",
   "metadata": {
    "execution": {
     "iopub.execute_input": "2021-11-25T09:16:39.304049Z",
     "iopub.status.busy": "2021-11-25T09:16:39.303067Z",
     "iopub.status.idle": "2021-11-25T09:16:39.316518Z",
     "shell.execute_reply": "2021-11-25T09:16:39.317038Z",
     "shell.execute_reply.started": "2021-11-25T09:05:59.063100Z"
    },
    "papermill": {
     "duration": 0.074638,
     "end_time": "2021-11-25T09:16:39.317208",
     "exception": false,
     "start_time": "2021-11-25T09:16:39.242570",
     "status": "completed"
    },
    "tags": []
   },
   "outputs": [
    {
     "data": {
      "text/html": [
       "<div>\n",
       "<style scoped>\n",
       "    .dataframe tbody tr th:only-of-type {\n",
       "        vertical-align: middle;\n",
       "    }\n",
       "\n",
       "    .dataframe tbody tr th {\n",
       "        vertical-align: top;\n",
       "    }\n",
       "\n",
       "    .dataframe thead th {\n",
       "        text-align: right;\n",
       "    }\n",
       "</style>\n",
       "<table border=\"1\" class=\"dataframe\">\n",
       "  <thead>\n",
       "    <tr style=\"text-align: right;\">\n",
       "      <th></th>\n",
       "      <th>PassengerId</th>\n",
       "      <th>Pclass</th>\n",
       "      <th>Name</th>\n",
       "      <th>Age</th>\n",
       "      <th>SibSp</th>\n",
       "      <th>Parch</th>\n",
       "      <th>Ticket</th>\n",
       "      <th>Fare</th>\n",
       "      <th>Cabin</th>\n",
       "      <th>Embarked</th>\n",
       "      <th>Sex_0</th>\n",
       "      <th>Sex_1</th>\n",
       "      <th>Name_Title_1</th>\n",
       "      <th>Name_Title_2</th>\n",
       "      <th>Name_Title_4</th>\n",
       "      <th>Name_Title_5</th>\n",
       "    </tr>\n",
       "  </thead>\n",
       "  <tbody>\n",
       "    <tr>\n",
       "      <th>0</th>\n",
       "      <td>1</td>\n",
       "      <td>3</td>\n",
       "      <td>Braund, Mr. Owen Harris</td>\n",
       "      <td>22.0</td>\n",
       "      <td>1</td>\n",
       "      <td>0</td>\n",
       "      <td>A/5 21171</td>\n",
       "      <td>7.2500</td>\n",
       "      <td>NaN</td>\n",
       "      <td>S</td>\n",
       "      <td>0</td>\n",
       "      <td>1</td>\n",
       "      <td>1</td>\n",
       "      <td>0</td>\n",
       "      <td>0</td>\n",
       "      <td>0</td>\n",
       "    </tr>\n",
       "    <tr>\n",
       "      <th>1</th>\n",
       "      <td>2</td>\n",
       "      <td>1</td>\n",
       "      <td>Cumings, Mrs. John Bradley (Florence Briggs Th...</td>\n",
       "      <td>38.0</td>\n",
       "      <td>1</td>\n",
       "      <td>0</td>\n",
       "      <td>PC 17599</td>\n",
       "      <td>71.2833</td>\n",
       "      <td>C85</td>\n",
       "      <td>C</td>\n",
       "      <td>1</td>\n",
       "      <td>0</td>\n",
       "      <td>0</td>\n",
       "      <td>1</td>\n",
       "      <td>0</td>\n",
       "      <td>0</td>\n",
       "    </tr>\n",
       "    <tr>\n",
       "      <th>2</th>\n",
       "      <td>3</td>\n",
       "      <td>3</td>\n",
       "      <td>Heikkinen, Miss. Laina</td>\n",
       "      <td>26.0</td>\n",
       "      <td>0</td>\n",
       "      <td>0</td>\n",
       "      <td>STON/O2. 3101282</td>\n",
       "      <td>7.9250</td>\n",
       "      <td>NaN</td>\n",
       "      <td>S</td>\n",
       "      <td>1</td>\n",
       "      <td>0</td>\n",
       "      <td>0</td>\n",
       "      <td>0</td>\n",
       "      <td>0</td>\n",
       "      <td>1</td>\n",
       "    </tr>\n",
       "    <tr>\n",
       "      <th>3</th>\n",
       "      <td>4</td>\n",
       "      <td>1</td>\n",
       "      <td>Futrelle, Mrs. Jacques Heath (Lily May Peel)</td>\n",
       "      <td>35.0</td>\n",
       "      <td>1</td>\n",
       "      <td>0</td>\n",
       "      <td>113803</td>\n",
       "      <td>53.1000</td>\n",
       "      <td>C123</td>\n",
       "      <td>S</td>\n",
       "      <td>1</td>\n",
       "      <td>0</td>\n",
       "      <td>0</td>\n",
       "      <td>1</td>\n",
       "      <td>0</td>\n",
       "      <td>0</td>\n",
       "    </tr>\n",
       "    <tr>\n",
       "      <th>4</th>\n",
       "      <td>5</td>\n",
       "      <td>3</td>\n",
       "      <td>Allen, Mr. William Henry</td>\n",
       "      <td>35.0</td>\n",
       "      <td>0</td>\n",
       "      <td>0</td>\n",
       "      <td>373450</td>\n",
       "      <td>8.0500</td>\n",
       "      <td>NaN</td>\n",
       "      <td>S</td>\n",
       "      <td>0</td>\n",
       "      <td>1</td>\n",
       "      <td>1</td>\n",
       "      <td>0</td>\n",
       "      <td>0</td>\n",
       "      <td>0</td>\n",
       "    </tr>\n",
       "  </tbody>\n",
       "</table>\n",
       "</div>"
      ],
      "text/plain": [
       "   PassengerId  Pclass                                               Name  \\\n",
       "0            1       3                            Braund, Mr. Owen Harris   \n",
       "1            2       1  Cumings, Mrs. John Bradley (Florence Briggs Th...   \n",
       "2            3       3                             Heikkinen, Miss. Laina   \n",
       "3            4       1       Futrelle, Mrs. Jacques Heath (Lily May Peel)   \n",
       "4            5       3                           Allen, Mr. William Henry   \n",
       "\n",
       "    Age  SibSp  Parch            Ticket     Fare Cabin Embarked  Sex_0  Sex_1  \\\n",
       "0  22.0      1      0         A/5 21171   7.2500   NaN        S      0      1   \n",
       "1  38.0      1      0          PC 17599  71.2833   C85        C      1      0   \n",
       "2  26.0      0      0  STON/O2. 3101282   7.9250   NaN        S      1      0   \n",
       "3  35.0      1      0            113803  53.1000  C123        S      1      0   \n",
       "4  35.0      0      0            373450   8.0500   NaN        S      0      1   \n",
       "\n",
       "   Name_Title_1  Name_Title_2  Name_Title_4  Name_Title_5  \n",
       "0             1             0             0             0  \n",
       "1             0             1             0             0  \n",
       "2             0             0             0             1  \n",
       "3             0             1             0             0  \n",
       "4             1             0             0             0  "
      ]
     },
     "execution_count": 19,
     "metadata": {},
     "output_type": "execute_result"
    }
   ],
   "source": [
    "train.head()"
   ]
  },
  {
   "cell_type": "code",
   "execution_count": 20,
   "id": "94adb88c",
   "metadata": {
    "execution": {
     "iopub.execute_input": "2021-11-25T09:16:39.434255Z",
     "iopub.status.busy": "2021-11-25T09:16:39.433311Z",
     "iopub.status.idle": "2021-11-25T09:16:39.439996Z",
     "shell.execute_reply": "2021-11-25T09:16:39.440599Z",
     "shell.execute_reply.started": "2021-11-25T09:05:59.094768Z"
    },
    "papermill": {
     "duration": 0.068515,
     "end_time": "2021-11-25T09:16:39.440763",
     "exception": false,
     "start_time": "2021-11-25T09:16:39.372248",
     "status": "completed"
    },
    "tags": []
   },
   "outputs": [],
   "source": [
    "X_train['Name_len'] = X_train['Name'].apply(lambda x: len(x))\n",
    "X_test['Name_len'] = X_test['Name'].apply(lambda x: len(x))"
   ]
  },
  {
   "cell_type": "code",
   "execution_count": 21,
   "id": "bf27f558",
   "metadata": {
    "execution": {
     "iopub.execute_input": "2021-11-25T09:16:39.556441Z",
     "iopub.status.busy": "2021-11-25T09:16:39.555800Z",
     "iopub.status.idle": "2021-11-25T09:16:42.908808Z",
     "shell.execute_reply": "2021-11-25T09:16:42.908318Z",
     "shell.execute_reply.started": "2021-11-25T09:05:59.112721Z"
    },
    "papermill": {
     "duration": 3.410393,
     "end_time": "2021-11-25T09:16:42.908975",
     "exception": false,
     "start_time": "2021-11-25T09:16:39.498582",
     "status": "completed"
    },
    "tags": []
   },
   "outputs": [
    {
     "data": {
      "text/plain": [
       "<AxesSubplot:xlabel='Name_len', ylabel='Survived'>"
      ]
     },
     "execution_count": 21,
     "metadata": {},
     "output_type": "execute_result"
    },
    {
     "data": {
      "image/png": "[encoded data removed]",
      "text/plain": [
       "<Figure size 1440x720 with 2 Axes>"
      ]
     },
     "metadata": {
      "needs_background": "light"
     },
     "output_type": "display_data"
    }
   ],
   "source": [
    "fig, (axis1,axis2) = plt.subplots(1,2,figsize=(20,10))\n",
    "sns.barplot('Name_len', 'Survived', data=X_train.sort_values(['Name_len']), ax=axis1) \n",
    "sns.barplot('Name_len', 'Survived', data=X_test.sort_values(['Name_len']), ax=axis2) \n"
   ]
  },
  {
   "cell_type": "code",
   "execution_count": 22,
   "id": "379f8ee9",
   "metadata": {
    "execution": {
     "iopub.execute_input": "2021-11-25T09:16:43.025962Z",
     "iopub.status.busy": "2021-11-25T09:16:43.025064Z",
     "iopub.status.idle": "2021-11-25T09:16:43.030059Z",
     "shell.execute_reply": "2021-11-25T09:16:43.030532Z",
     "shell.execute_reply.started": "2021-11-25T09:06:01.732891Z"
    },
    "papermill": {
     "duration": 0.066022,
     "end_time": "2021-11-25T09:16:43.030682",
     "exception": false,
     "start_time": "2021-11-25T09:16:42.964660",
     "status": "completed"
    },
    "tags": []
   },
   "outputs": [],
   "source": [
    "train['Name_len'] = train['Name'].apply(lambda x: len(x))\n",
    "test['Name_len'] = test['Name'].apply(lambda x: len(x))"
   ]
  },
  {
   "cell_type": "code",
   "execution_count": 23,
   "id": "fb749556",
   "metadata": {
    "execution": {
     "iopub.execute_input": "2021-11-25T09:16:43.147620Z",
     "iopub.status.busy": "2021-11-25T09:16:43.146961Z",
     "iopub.status.idle": "2021-11-25T09:16:43.148557Z",
     "shell.execute_reply": "2021-11-25T09:16:43.149059Z",
     "shell.execute_reply.started": "2021-11-25T09:06:01.745915Z"
    },
    "papermill": {
     "duration": 0.061897,
     "end_time": "2021-11-25T09:16:43.149232",
     "exception": false,
     "start_time": "2021-11-25T09:16:43.087335",
     "status": "completed"
    },
    "tags": []
   },
   "outputs": [],
   "source": [
    "def Ticket_First_Let(x):\n",
    "    return x[0]"
   ]
  },
  {
   "cell_type": "code",
   "execution_count": 24,
   "id": "66e99ffe",
   "metadata": {
    "execution": {
     "iopub.execute_input": "2021-11-25T09:16:43.267742Z",
     "iopub.status.busy": "2021-11-25T09:16:43.266699Z",
     "iopub.status.idle": "2021-11-25T09:16:43.268534Z",
     "shell.execute_reply": "2021-11-25T09:16:43.269034Z",
     "shell.execute_reply.started": "2021-11-25T09:06:01.761932Z"
    },
    "papermill": {
     "duration": 0.064843,
     "end_time": "2021-11-25T09:16:43.269229",
     "exception": false,
     "start_time": "2021-11-25T09:16:43.204386",
     "status": "completed"
    },
    "tags": []
   },
   "outputs": [],
   "source": [
    "X_train['Ticket_First_Letter'] = X_train['Ticket'].apply(Ticket_First_Let)\n",
    "X_test['Ticket_First_Letter'] = X_test['Ticket'].apply(Ticket_First_Let)"
   ]
  },
  {
   "cell_type": "code",
   "execution_count": 25,
   "id": "5a09383b",
   "metadata": {
    "execution": {
     "iopub.execute_input": "2021-11-25T09:16:43.388734Z",
     "iopub.status.busy": "2021-11-25T09:16:43.387752Z",
     "iopub.status.idle": "2021-11-25T09:16:43.393060Z",
     "shell.execute_reply": "2021-11-25T09:16:43.393604Z",
     "shell.execute_reply.started": "2021-11-25T09:06:01.779443Z"
    },
    "papermill": {
     "duration": 0.067716,
     "end_time": "2021-11-25T09:16:43.393776",
     "exception": false,
     "start_time": "2021-11-25T09:16:43.326060",
     "status": "completed"
    },
    "tags": []
   },
   "outputs": [
    {
     "data": {
      "text/plain": [
       "Ticket_First_Letter\n",
       "1     87\n",
       "2    129\n",
       "3    225\n",
       "4     10\n",
       "5      2\n",
       "6      6\n",
       "7      6\n",
       "8      1\n",
       "9      1\n",
       "A     20\n",
       "C     32\n",
       "F      3\n",
       "L      3\n",
       "P     49\n",
       "S     40\n",
       "W      9\n",
       "Name: Survived, dtype: int64"
      ]
     },
     "execution_count": 25,
     "metadata": {},
     "output_type": "execute_result"
    }
   ],
   "source": [
    "X_train.groupby('Ticket_First_Letter')['Survived'].count()"
   ]
  },
  {
   "cell_type": "code",
   "execution_count": 26,
   "id": "b1878b29",
   "metadata": {
    "execution": {
     "iopub.execute_input": "2021-11-25T09:16:43.524303Z",
     "iopub.status.busy": "2021-11-25T09:16:43.513931Z",
     "iopub.status.idle": "2021-11-25T09:16:44.732337Z",
     "shell.execute_reply": "2021-11-25T09:16:44.732821Z",
     "shell.execute_reply.started": "2021-11-25T09:06:01.799620Z"
    },
    "papermill": {
     "duration": 1.280106,
     "end_time": "2021-11-25T09:16:44.732997",
     "exception": false,
     "start_time": "2021-11-25T09:16:43.452891",
     "status": "completed"
    },
    "tags": []
   },
   "outputs": [
    {
     "data": {
      "text/plain": [
       "<AxesSubplot:xlabel='Ticket_First_Letter', ylabel='Survived'>"
      ]
     },
     "execution_count": 26,
     "metadata": {},
     "output_type": "execute_result"
    },
    {
     "data": {
      "image/png": "[encoded data removed]",
      "text/plain": [
       "<Figure size 1080x360 with 2 Axes>"
      ]
     },
     "metadata": {
      "needs_background": "light"
     },
     "output_type": "display_data"
    }
   ],
   "source": [
    "fig, (axis1,axis2) = plt.subplots(1,2,figsize=(15,5))\n",
    "sns.barplot('Ticket_First_Letter', 'Survived', data=X_train.sort_values('Ticket_First_Letter'), ax=axis1) \n",
    "sns.barplot('Ticket_First_Letter', 'Survived', data=X_test.sort_values('Ticket_First_Letter'), ax=axis2)"
   ]
  },
  {
   "cell_type": "code",
   "execution_count": 27,
   "id": "00b44d5d",
   "metadata": {
    "execution": {
     "iopub.execute_input": "2021-11-25T09:16:44.853097Z",
     "iopub.status.busy": "2021-11-25T09:16:44.852528Z",
     "iopub.status.idle": "2021-11-25T09:16:44.857286Z",
     "shell.execute_reply": "2021-11-25T09:16:44.857681Z",
     "shell.execute_reply.started": "2021-11-25T09:06:02.752532Z"
    },
    "papermill": {
     "duration": 0.06634,
     "end_time": "2021-11-25T09:16:44.857835",
     "exception": false,
     "start_time": "2021-11-25T09:16:44.791495",
     "status": "completed"
    },
    "tags": []
   },
   "outputs": [],
   "source": [
    "def Ticket_First_Letter_Code(x):\n",
    "    if (x == '1'):\n",
    "        return 1\n",
    "    if x == '3':\n",
    "        return 2\n",
    "    if x == '4':\n",
    "        return 3\n",
    "    if x == 'C':\n",
    "        return 4\n",
    "    if x == 'S':\n",
    "        return 5\n",
    "    if x == 'P':\n",
    "        return 6\n",
    "    if x == '6':\n",
    "        return 7\n",
    "    if x == '7':\n",
    "        return 8\n",
    "    if x == 'A':\n",
    "        return 9\n",
    "    if x == 'W':\n",
    "        return 10\n",
    "    return 11"
   ]
  },
  {
   "cell_type": "code",
   "execution_count": 28,
   "id": "e428411a",
   "metadata": {
    "execution": {
     "iopub.execute_input": "2021-11-25T09:16:44.974625Z",
     "iopub.status.busy": "2021-11-25T09:16:44.973982Z",
     "iopub.status.idle": "2021-11-25T09:16:44.981113Z",
     "shell.execute_reply": "2021-11-25T09:16:44.981535Z",
     "shell.execute_reply.started": "2021-11-25T09:06:02.761912Z"
    },
    "papermill": {
     "duration": 0.067733,
     "end_time": "2021-11-25T09:16:44.981691",
     "exception": false,
     "start_time": "2021-11-25T09:16:44.913958",
     "status": "completed"
    },
    "tags": []
   },
   "outputs": [
    {
     "data": {
      "text/plain": [
       "array(['A', 'P', 'S', '1', '3', '2', 'C', '7', 'W', '4', 'F', 'L', '9',\n",
       "       '6', '5', '8'], dtype=object)"
      ]
     },
     "execution_count": 28,
     "metadata": {},
     "output_type": "execute_result"
    }
   ],
   "source": [
    "train['Ticket_First_Letter'] = train['Ticket'].apply(Ticket_First_Let)\n",
    "test['Ticket_First_Letter'] = test['Ticket'].apply(Ticket_First_Let)\n",
    "train['Ticket_First_Letter'].unique()"
   ]
  },
  {
   "cell_type": "code",
   "execution_count": 29,
   "id": "79b94774",
   "metadata": {
    "execution": {
     "iopub.execute_input": "2021-11-25T09:16:45.101255Z",
     "iopub.status.busy": "2021-11-25T09:16:45.100561Z",
     "iopub.status.idle": "2021-11-25T09:16:45.103256Z",
     "shell.execute_reply": "2021-11-25T09:16:45.103701Z",
     "shell.execute_reply.started": "2021-11-25T09:06:02.787503Z"
    },
    "papermill": {
     "duration": 0.06553,
     "end_time": "2021-11-25T09:16:45.103844",
     "exception": false,
     "start_time": "2021-11-25T09:16:45.038314",
     "status": "completed"
    },
    "tags": []
   },
   "outputs": [
    {
     "data": {
      "text/plain": [
       "array(['3', '2', '7', 'A', '6', 'W', 'S', 'P', 'C', '1', 'F', '4', '9',\n",
       "       'L'], dtype=object)"
      ]
     },
     "execution_count": 29,
     "metadata": {},
     "output_type": "execute_result"
    }
   ],
   "source": [
    "test['Ticket_First_Letter'].unique()"
   ]
  },
  {
   "cell_type": "code",
   "execution_count": 30,
   "id": "cd48cf4d",
   "metadata": {
    "execution": {
     "iopub.execute_input": "2021-11-25T09:16:45.224837Z",
     "iopub.status.busy": "2021-11-25T09:16:45.223876Z",
     "iopub.status.idle": "2021-11-25T09:16:45.225640Z",
     "shell.execute_reply": "2021-11-25T09:16:45.226217Z",
     "shell.execute_reply.started": "2021-11-25T09:06:02.806807Z"
    },
    "papermill": {
     "duration": 0.066563,
     "end_time": "2021-11-25T09:16:45.226382",
     "exception": false,
     "start_time": "2021-11-25T09:16:45.159819",
     "status": "completed"
    },
    "tags": []
   },
   "outputs": [],
   "source": [
    "train['Ticket_First_Letter'] = train['Ticket_First_Letter'].apply(Ticket_First_Letter_Code)\n",
    "test['Ticket_First_Letter'] = test['Ticket_First_Letter'].apply(Ticket_First_Letter_Code)"
   ]
  },
  {
   "cell_type": "code",
   "execution_count": 31,
   "id": "4b610cc3",
   "metadata": {
    "execution": {
     "iopub.execute_input": "2021-11-25T09:16:45.345738Z",
     "iopub.status.busy": "2021-11-25T09:16:45.344851Z",
     "iopub.status.idle": "2021-11-25T09:16:45.356681Z",
     "shell.execute_reply": "2021-11-25T09:16:45.357181Z",
     "shell.execute_reply.started": "2021-11-25T09:06:02.822362Z"
    },
    "papermill": {
     "duration": 0.071689,
     "end_time": "2021-11-25T09:16:45.357363",
     "exception": false,
     "start_time": "2021-11-25T09:16:45.285674",
     "status": "completed"
    },
    "tags": []
   },
   "outputs": [],
   "source": [
    "train = pd.get_dummies(columns = ['Ticket_First_Letter'], data = train) \n",
    "test = pd.get_dummies(columns = ['Ticket_First_Letter'], data = test)"
   ]
  },
  {
   "cell_type": "code",
   "execution_count": 32,
   "id": "209e071c",
   "metadata": {
    "execution": {
     "iopub.execute_input": "2021-11-25T09:16:45.492877Z",
     "iopub.status.busy": "2021-11-25T09:16:45.490033Z",
     "iopub.status.idle": "2021-11-25T09:16:45.640146Z",
     "shell.execute_reply": "2021-11-25T09:16:45.639534Z",
     "shell.execute_reply.started": "2021-11-25T09:06:02.843793Z"
    },
    "papermill": {
     "duration": 0.223101,
     "end_time": "2021-11-25T09:16:45.640287",
     "exception": false,
     "start_time": "2021-11-25T09:16:45.417186",
     "status": "completed"
    },
    "tags": []
   },
   "outputs": [],
   "source": [
    " def cabin_num(train, test):\n",
    "    for i in [train, test]:\n",
    "        i['Cabin_num1'] = i['Cabin'].apply(lambda x: str(x).split(' ')[-1][1:])\n",
    "        i['Cabin_num1'].replace('an', np.NaN, inplace = True)\n",
    "        i['Cabin_num1'] = i['Cabin_num1'].apply(lambda x: int(x) if not pd.isnull(x) and x != '' else np.NaN)\n",
    "        i['Cabin_num'] = pd.qcut(train['Cabin_num1'],3)\n",
    "    train = pd.concat((train, pd.get_dummies(train['Cabin_num'], prefix = 'Cabin_num')), axis = 1)\n",
    "    test = pd.concat((test, pd.get_dummies(test['Cabin_num'], prefix = 'Cabin_num')), axis = 1)\n",
    "    del train['Cabin_num']\n",
    "    del test['Cabin_num']\n",
    "    del train['Cabin_num1']\n",
    "    del test['Cabin_num1']\n",
    "    return train, test\n",
    "train,test = cabin_num(train, test) "
   ]
  },
  {
   "cell_type": "code",
   "execution_count": 33,
   "id": "a5bdb2e6",
   "metadata": {
    "execution": {
     "iopub.execute_input": "2021-11-25T09:16:45.763995Z",
     "iopub.status.busy": "2021-11-25T09:16:45.763373Z",
     "iopub.status.idle": "2021-11-25T09:16:45.768107Z",
     "shell.execute_reply": "2021-11-25T09:16:45.768634Z",
     "shell.execute_reply.started": "2021-11-25T09:06:02.870750Z"
    },
    "papermill": {
     "duration": 0.068957,
     "end_time": "2021-11-25T09:16:45.768794",
     "exception": false,
     "start_time": "2021-11-25T09:16:45.699837",
     "status": "completed"
    },
    "tags": []
   },
   "outputs": [],
   "source": [
    "X_train['Cabin'] = X_train['Cabin'].fillna('Missing')\n",
    "X_test['Cabin'] = X_test['Cabin'].fillna('Missing')"
   ]
  },
  {
   "cell_type": "code",
   "execution_count": 34,
   "id": "e5990e03",
   "metadata": {
    "execution": {
     "iopub.execute_input": "2021-11-25T09:16:45.893092Z",
     "iopub.status.busy": "2021-11-25T09:16:45.892495Z",
     "iopub.status.idle": "2021-11-25T09:16:45.895879Z",
     "shell.execute_reply": "2021-11-25T09:16:45.896430Z",
     "shell.execute_reply.started": "2021-11-25T09:06:02.882683Z"
    },
    "papermill": {
     "duration": 0.064942,
     "end_time": "2021-11-25T09:16:45.896590",
     "exception": false,
     "start_time": "2021-11-25T09:16:45.831648",
     "status": "completed"
    },
    "tags": []
   },
   "outputs": [],
   "source": [
    "def Cabin_First_Letter(x):\n",
    "    if x == 'Missing':\n",
    "        return 'XX'\n",
    "    return x[0]"
   ]
  },
  {
   "cell_type": "code",
   "execution_count": 35,
   "id": "f6029410",
   "metadata": {
    "execution": {
     "iopub.execute_input": "2021-11-25T09:16:46.016103Z",
     "iopub.status.busy": "2021-11-25T09:16:46.015115Z",
     "iopub.status.idle": "2021-11-25T09:16:46.021293Z",
     "shell.execute_reply": "2021-11-25T09:16:46.021731Z",
     "shell.execute_reply.started": "2021-11-25T09:06:02.901713Z"
    },
    "papermill": {
     "duration": 0.068121,
     "end_time": "2021-11-25T09:16:46.021908",
     "exception": false,
     "start_time": "2021-11-25T09:16:45.953787",
     "status": "completed"
    },
    "tags": []
   },
   "outputs": [],
   "source": [
    "X_train['Cabin_First_Letter'] = X_train['Cabin'].apply(Cabin_First_Letter)\n",
    "X_test['Cabin_First_Letter'] = X_test['Cabin'].apply(Cabin_First_Letter) "
   ]
  },
  {
   "cell_type": "code",
   "execution_count": 36,
   "id": "e62a544f",
   "metadata": {
    "execution": {
     "iopub.execute_input": "2021-11-25T09:16:46.142096Z",
     "iopub.status.busy": "2021-11-25T09:16:46.141515Z",
     "iopub.status.idle": "2021-11-25T09:16:46.148046Z",
     "shell.execute_reply": "2021-11-25T09:16:46.148551Z",
     "shell.execute_reply.started": "2021-11-25T09:06:02.921154Z"
    },
    "papermill": {
     "duration": 0.067369,
     "end_time": "2021-11-25T09:16:46.148712",
     "exception": false,
     "start_time": "2021-11-25T09:16:46.081343",
     "status": "completed"
    },
    "tags": []
   },
   "outputs": [
    {
     "data": {
      "text/plain": [
       "Cabin_First_Letter\n",
       "A      12\n",
       "B      28\n",
       "C      41\n",
       "D      21\n",
       "E      22\n",
       "F       8\n",
       "G       3\n",
       "XX    488\n",
       "Name: Survived, dtype: int64"
      ]
     },
     "execution_count": 36,
     "metadata": {},
     "output_type": "execute_result"
    }
   ],
   "source": [
    "X_train.groupby('Cabin_First_Letter')['Survived'].count()"
   ]
  },
  {
   "cell_type": "code",
   "execution_count": 37,
   "id": "afac7dac",
   "metadata": {
    "execution": {
     "iopub.execute_input": "2021-11-25T09:16:46.267254Z",
     "iopub.status.busy": "2021-11-25T09:16:46.266621Z",
     "iopub.status.idle": "2021-11-25T09:16:47.114480Z",
     "shell.execute_reply": "2021-11-25T09:16:47.114962Z",
     "shell.execute_reply.started": "2021-11-25T09:06:02.944104Z"
    },
    "papermill": {
     "duration": 0.909601,
     "end_time": "2021-11-25T09:16:47.115124",
     "exception": false,
     "start_time": "2021-11-25T09:16:46.205523",
     "status": "completed"
    },
    "tags": []
   },
   "outputs": [
    {
     "data": {
      "text/plain": [
       "<AxesSubplot:xlabel='Cabin_First_Letter', ylabel='Survived'>"
      ]
     },
     "execution_count": 37,
     "metadata": {},
     "output_type": "execute_result"
    },
    {
     "data": {
      "image/png": "[encoded data removed]",
      "text/plain": [
       "<Figure size 1080x360 with 2 Axes>"
      ]
     },
     "metadata": {
      "needs_background": "light"
     },
     "output_type": "display_data"
    }
   ],
   "source": [
    "fig, (axis1,axis2) = plt.subplots(1,2,figsize=(15,5))\n",
    "sns.barplot('Cabin_First_Letter', 'Survived', data=X_train.sort_values('Cabin_First_Letter'), ax=axis1) \n",
    "sns.barplot('Cabin_First_Letter', 'Survived', data=X_test.sort_values('Cabin_First_Letter'), ax=axis2) "
   ]
  },
  {
   "cell_type": "code",
   "execution_count": 38,
   "id": "4fa33435",
   "metadata": {
    "execution": {
     "iopub.execute_input": "2021-11-25T09:16:47.235802Z",
     "iopub.status.busy": "2021-11-25T09:16:47.235198Z",
     "iopub.status.idle": "2021-11-25T09:16:47.237482Z",
     "shell.execute_reply": "2021-11-25T09:16:47.236983Z",
     "shell.execute_reply.started": "2021-11-25T09:06:03.565955Z"
    },
    "papermill": {
     "duration": 0.064694,
     "end_time": "2021-11-25T09:16:47.237608",
     "exception": false,
     "start_time": "2021-11-25T09:16:47.172914",
     "status": "completed"
    },
    "tags": []
   },
   "outputs": [],
   "source": [
    "def Cabin_First_Letter_Code(x):\n",
    "    if x == 'XX':\n",
    "        return 1\n",
    "    if x == 'B':\n",
    "        return 2\n",
    "    if x == 'C':\n",
    "        return 3\n",
    "    if x == 'D':\n",
    "        return 4     \n",
    "    return 5"
   ]
  },
  {
   "cell_type": "code",
   "execution_count": 39,
   "id": "6519cb5b",
   "metadata": {
    "execution": {
     "iopub.execute_input": "2021-11-25T09:16:47.364769Z",
     "iopub.status.busy": "2021-11-25T09:16:47.361809Z",
     "iopub.status.idle": "2021-11-25T09:16:47.366799Z",
     "shell.execute_reply": "2021-11-25T09:16:47.367318Z",
     "shell.execute_reply.started": "2021-11-25T09:06:03.574302Z"
    },
    "papermill": {
     "duration": 0.070669,
     "end_time": "2021-11-25T09:16:47.367499",
     "exception": false,
     "start_time": "2021-11-25T09:16:47.296830",
     "status": "completed"
    },
    "tags": []
   },
   "outputs": [],
   "source": [
    "train['Cabin'] = train['Cabin'].fillna('Missing')\n",
    "test['Cabin'] = test['Cabin'].fillna('Missing')\n",
    "train['Cabin_First_Letter'] = train['Cabin'].apply(Cabin_First_Letter)\n",
    "test['Cabin_First_Letter'] = test['Cabin'].apply(Cabin_First_Letter)"
   ]
  },
  {
   "cell_type": "code",
   "execution_count": 40,
   "id": "dcb4ee13",
   "metadata": {
    "execution": {
     "iopub.execute_input": "2021-11-25T09:16:47.490560Z",
     "iopub.status.busy": "2021-11-25T09:16:47.488085Z",
     "iopub.status.idle": "2021-11-25T09:16:47.504293Z",
     "shell.execute_reply": "2021-11-25T09:16:47.503717Z",
     "shell.execute_reply.started": "2021-11-25T09:06:03.601023Z"
    },
    "papermill": {
     "duration": 0.077173,
     "end_time": "2021-11-25T09:16:47.504433",
     "exception": false,
     "start_time": "2021-11-25T09:16:47.427260",
     "status": "completed"
    },
    "tags": []
   },
   "outputs": [],
   "source": [
    "train['Cabin_First_Letter'] = train['Cabin_First_Letter'].apply(Cabin_First_Letter_Code)\n",
    "test['Cabin_First_Letter'] = test['Cabin_First_Letter'].apply(Cabin_First_Letter_Code)\n",
    "train = pd.get_dummies(columns = ['Cabin_First_Letter'], data = train) \n",
    "test = pd.get_dummies(columns = ['Cabin_First_Letter'], data = test)"
   ]
  },
  {
   "cell_type": "code",
   "execution_count": 41,
   "id": "f356302d",
   "metadata": {
    "execution": {
     "iopub.execute_input": "2021-11-25T09:16:47.627282Z",
     "iopub.status.busy": "2021-11-25T09:16:47.626714Z",
     "iopub.status.idle": "2021-11-25T09:16:48.114723Z",
     "shell.execute_reply": "2021-11-25T09:16:48.115170Z",
     "shell.execute_reply.started": "2021-11-25T09:06:03.624958Z"
    },
    "papermill": {
     "duration": 0.551783,
     "end_time": "2021-11-25T09:16:48.115329",
     "exception": false,
     "start_time": "2021-11-25T09:16:47.563546",
     "status": "completed"
    },
    "tags": []
   },
   "outputs": [
    {
     "data": {
      "text/plain": [
       "<AxesSubplot:xlabel='Embarked', ylabel='Survived'>"
      ]
     },
     "execution_count": 41,
     "metadata": {},
     "output_type": "execute_result"
    },
    {
     "data": {
      "image/png": "[encoded data removed]",
      "text/plain": [
       "<Figure size 1080x360 with 2 Axes>"
      ]
     },
     "metadata": {
      "needs_background": "light"
     },
     "output_type": "display_data"
    }
   ],
   "source": [
    "fig, (axis1,axis2) = plt.subplots(1,2,figsize=(15,5))\n",
    "sns.barplot('Embarked', 'Survived', data=X_train.sort_values('Embarked'), ax=axis1) \n",
    "sns.barplot('Embarked', 'Survived', data=X_test.sort_values('Embarked'), ax=axis2)"
   ]
  },
  {
   "cell_type": "code",
   "execution_count": 42,
   "id": "52125ee0",
   "metadata": {
    "execution": {
     "iopub.execute_input": "2021-11-25T09:16:48.235664Z",
     "iopub.status.busy": "2021-11-25T09:16:48.235139Z",
     "iopub.status.idle": "2021-11-25T09:16:48.246673Z",
     "shell.execute_reply": "2021-11-25T09:16:48.247111Z",
     "shell.execute_reply.started": "2021-11-25T09:06:04.014752Z"
    },
    "papermill": {
     "duration": 0.072988,
     "end_time": "2021-11-25T09:16:48.247276",
     "exception": false,
     "start_time": "2021-11-25T09:16:48.174288",
     "status": "completed"
    },
    "tags": []
   },
   "outputs": [],
   "source": [
    "train = pd.get_dummies(train,columns = ['Embarked'])\n",
    "test = pd.get_dummies(test,columns = ['Embarked'])"
   ]
  },
  {
   "cell_type": "code",
   "execution_count": 43,
   "id": "7318fce4",
   "metadata": {
    "execution": {
     "iopub.execute_input": "2021-11-25T09:16:48.373385Z",
     "iopub.status.busy": "2021-11-25T09:16:48.372775Z",
     "iopub.status.idle": "2021-11-25T09:16:49.157636Z",
     "shell.execute_reply": "2021-11-25T09:16:49.157073Z",
     "shell.execute_reply.started": "2021-11-25T09:06:04.033382Z"
    },
    "papermill": {
     "duration": 0.849022,
     "end_time": "2021-11-25T09:16:49.157771",
     "exception": false,
     "start_time": "2021-11-25T09:16:48.308749",
     "status": "completed"
    },
    "tags": []
   },
   "outputs": [
    {
     "data": {
      "text/plain": [
       "<AxesSubplot:xlabel='SibSp', ylabel='Survived'>"
      ]
     },
     "execution_count": 43,
     "metadata": {},
     "output_type": "execute_result"
    },
    {
     "data": {
      "image/png": "[encoded data removed]",
      "text/plain": [
       "<Figure size 1080x360 with 2 Axes>"
      ]
     },
     "metadata": {
      "needs_background": "light"
     },
     "output_type": "display_data"
    }
   ],
   "source": [
    "fig, (axis1,axis2) = plt.subplots(1,2,figsize=(15,5))\n",
    "sns.barplot('SibSp', 'Survived', data=X_train.sort_values('SibSp'), ax=axis1) \n",
    "sns.barplot('SibSp', 'Survived', data=X_test.sort_values('SibSp'), ax=axis2) "
   ]
  },
  {
   "cell_type": "code",
   "execution_count": 44,
   "id": "3fdd3933",
   "metadata": {
    "execution": {
     "iopub.execute_input": "2021-11-25T09:16:49.291651Z",
     "iopub.status.busy": "2021-11-25T09:16:49.290634Z",
     "iopub.status.idle": "2021-11-25T09:16:49.293280Z",
     "shell.execute_reply": "2021-11-25T09:16:49.292786Z",
     "shell.execute_reply.started": "2021-11-25T09:06:04.625742Z"
    },
    "papermill": {
     "duration": 0.072245,
     "end_time": "2021-11-25T09:16:49.293419",
     "exception": false,
     "start_time": "2021-11-25T09:16:49.221174",
     "status": "completed"
    },
    "tags": []
   },
   "outputs": [],
   "source": [
    "X_train['Fam_Size'] = X_train['SibSp']  + X_train['Parch'] \n",
    "X_test['Fam_Size'] = X_test['SibSp']  + X_test['Parch'] "
   ]
  },
  {
   "cell_type": "code",
   "execution_count": 45,
   "id": "e11db71f",
   "metadata": {
    "execution": {
     "iopub.execute_input": "2021-11-25T09:16:49.443281Z",
     "iopub.status.busy": "2021-11-25T09:16:49.438904Z",
     "iopub.status.idle": "2021-11-25T09:16:50.372484Z",
     "shell.execute_reply": "2021-11-25T09:16:50.371995Z",
     "shell.execute_reply.started": "2021-11-25T09:06:04.636689Z"
    },
    "papermill": {
     "duration": 1.016537,
     "end_time": "2021-11-25T09:16:50.372611",
     "exception": false,
     "start_time": "2021-11-25T09:16:49.356074",
     "status": "completed"
    },
    "tags": []
   },
   "outputs": [
    {
     "data": {
      "text/plain": [
       "<AxesSubplot:xlabel='Fam_Size', ylabel='Survived'>"
      ]
     },
     "execution_count": 45,
     "metadata": {},
     "output_type": "execute_result"
    },
    {
     "data": {
      "image/png": "[encoded data removed]",
      "text/plain": [
       "<Figure size 1080x360 with 2 Axes>"
      ]
     },
     "metadata": {
      "needs_background": "light"
     },
     "output_type": "display_data"
    }
   ],
   "source": [
    "fig, (axis1,axis2) = plt.subplots(1,2,figsize=(15,5))\n",
    "sns.barplot('Fam_Size', 'Survived', data=X_train.sort_values('Parch'), ax=axis1) \n",
    "sns.barplot('Fam_Size', 'Survived', data=X_test.sort_values('Parch'), ax=axis2) "
   ]
  },
  {
   "cell_type": "code",
   "execution_count": 46,
   "id": "9253171f",
   "metadata": {
    "execution": {
     "iopub.execute_input": "2021-11-25T09:16:50.507883Z",
     "iopub.status.busy": "2021-11-25T09:16:50.506875Z",
     "iopub.status.idle": "2021-11-25T09:16:50.522039Z",
     "shell.execute_reply": "2021-11-25T09:16:50.521536Z",
     "shell.execute_reply.started": "2021-11-25T09:06:05.553307Z"
    },
    "papermill": {
     "duration": 0.08784,
     "end_time": "2021-11-25T09:16:50.522237",
     "exception": false,
     "start_time": "2021-11-25T09:16:50.434397",
     "status": "completed"
    },
    "tags": []
   },
   "outputs": [],
   "source": [
    "def Family_feature(train, test):\n",
    "    for i in [train, test]:\n",
    "        i['Fam_Size'] = np.where((i['SibSp']+i['Parch']) == 0 , 'Solo',\n",
    "                           np.where((i['SibSp']+i['Parch']) <= 3,'Nuclear', 'Big'))\n",
    "        del i['SibSp']\n",
    "        del i['Parch']\n",
    "    return train, test \n",
    "train, test  = Family_feature(train, test)\n",
    "train = pd.get_dummies(train,columns = ['Fam_Size']) \n",
    "test =  pd.get_dummies(test,columns = ['Fam_Size']) "
   ]
  },
  {
   "cell_type": "code",
   "execution_count": 47,
   "id": "60753602",
   "metadata": {
    "execution": {
     "iopub.execute_input": "2021-11-25T09:16:50.694516Z",
     "iopub.status.busy": "2021-11-25T09:16:50.693439Z",
     "iopub.status.idle": "2021-11-25T09:16:51.157885Z",
     "shell.execute_reply": "2021-11-25T09:16:51.158320Z",
     "shell.execute_reply.started": "2021-11-25T09:06:05.577258Z"
    },
    "papermill": {
     "duration": 0.574801,
     "end_time": "2021-11-25T09:16:51.158483",
     "exception": false,
     "start_time": "2021-11-25T09:16:50.583682",
     "status": "completed"
    },
    "tags": []
   },
   "outputs": [
    {
     "data": {
      "text/plain": [
       "<AxesSubplot:xlabel='Pclass', ylabel='Survived'>"
      ]
     },
     "execution_count": 47,
     "metadata": {},
     "output_type": "execute_result"
    },
    {
     "data": {
      "image/png": "[encoded data removed]",
      "text/plain": [
       "<Figure size 1080x360 with 2 Axes>"
      ]
     },
     "metadata": {
      "needs_background": "light"
     },
     "output_type": "display_data"
    }
   ],
   "source": [
    "fig, (axis1,axis2) = plt.subplots(1,2,figsize=(15,5))\n",
    "sns.barplot('Pclass', 'Survived', data=X_train.sort_values('Pclass'), ax=axis1) \n",
    "sns.barplot('Pclass', 'Survived', data=X_test.sort_values('Pclass'), ax=axis2) "
   ]
  },
  {
   "cell_type": "code",
   "execution_count": 48,
   "id": "02e95d71",
   "metadata": {
    "execution": {
     "iopub.execute_input": "2021-11-25T09:16:51.297110Z",
     "iopub.status.busy": "2021-11-25T09:16:51.294823Z",
     "iopub.status.idle": "2021-11-25T09:16:51.298913Z",
     "shell.execute_reply": "2021-11-25T09:16:51.299392Z",
     "shell.execute_reply.started": "2021-11-25T09:06:05.981928Z"
    },
    "papermill": {
     "duration": 0.077915,
     "end_time": "2021-11-25T09:16:51.299577",
     "exception": false,
     "start_time": "2021-11-25T09:16:51.221662",
     "status": "completed"
    },
    "tags": []
   },
   "outputs": [],
   "source": [
    "train['Pclass_1']  = np.int32(train['Pclass'] == 1)  \n",
    "train['Pclass_2']  = np.int32(train['Pclass'] == 2)  \n",
    "train['Pclass_3']  = np.int32(train['Pclass'] == 3)  \n",
    "test['Pclass_1']  = np.int32(test['Pclass'] == 1)  \n",
    "test['Pclass_2']  = np.int32(test['Pclass'] == 2)  \n",
    "test['Pclass_3']  = np.int32(test['Pclass'] == 3)  "
   ]
  },
  {
   "cell_type": "code",
   "execution_count": 49,
   "id": "32d7c448",
   "metadata": {
    "execution": {
     "iopub.execute_input": "2021-11-25T09:16:51.431330Z",
     "iopub.status.busy": "2021-11-25T09:16:51.430668Z",
     "iopub.status.idle": "2021-11-25T09:16:51.939865Z",
     "shell.execute_reply": "2021-11-25T09:16:51.939299Z",
     "shell.execute_reply.started": "2021-11-25T09:06:05.996026Z"
    },
    "papermill": {
     "duration": 0.576438,
     "end_time": "2021-11-25T09:16:51.940158",
     "exception": false,
     "start_time": "2021-11-25T09:16:51.363720",
     "status": "completed"
    },
    "tags": []
   },
   "outputs": [
    {
     "data": {
      "text/plain": [
       "<AxesSubplot:ylabel='Density'>"
      ]
     },
     "execution_count": 49,
     "metadata": {},
     "output_type": "execute_result"
    },
    {
     "data": {
      "image/png": "[encoded data removed]",
      "text/plain": [
       "<Figure size 1080x360 with 2 Axes>"
      ]
     },
     "metadata": {
      "needs_background": "light"
     },
     "output_type": "display_data"
    }
   ],
   "source": [
    "fig, (axis1,axis2) = plt.subplots(1,2,figsize=(15,5)) \n",
    "sns.distplot(X_train[X_train.Survived==1]['Age'].dropna().values, bins=range(0, 81, 6),color='red', ax=axis1) \n",
    "sns.distplot(X_train[X_train.Survived==0]['Age'].dropna().values, bins=range(0, 81, 6),color = 'blue', ax=axis1) \n",
    "sns.distplot(X_test[X_test.Survived==1]['Age'].dropna().values, bins=range(0, 81, 6),color='red', ax=axis2) \n",
    "sns.distplot(X_test[X_test.Survived==0]['Age'].dropna().values, bins=range(0, 81, 6),color = 'blue', ax=axis2)"
   ]
  },
  {
   "cell_type": "code",
   "execution_count": 50,
   "id": "91ebe8ad",
   "metadata": {
    "execution": {
     "iopub.execute_input": "2021-11-25T09:16:52.082984Z",
     "iopub.status.busy": "2021-11-25T09:16:52.082348Z",
     "iopub.status.idle": "2021-11-25T09:16:52.084462Z",
     "shell.execute_reply": "2021-11-25T09:16:52.084934Z",
     "shell.execute_reply.started": "2021-11-25T09:06:06.778305Z"
    },
    "papermill": {
     "duration": 0.078921,
     "end_time": "2021-11-25T09:16:52.085089",
     "exception": false,
     "start_time": "2021-11-25T09:16:52.006168",
     "status": "completed"
    },
    "tags": []
   },
   "outputs": [],
   "source": [
    "train['Small_Age'] = np.int32(train['Age'] <= 5)  \n",
    "train['Old_Age'] = np.int32(train['Age'] >= 65)  \n",
    "train['Middle_Age'] = np.int32((train['Age'] >= 15) & (train['Age'] <= 25))  \n",
    "test['Small_Age'] = np.int32(test['Age'] <= 5)  \n",
    "test['Old_Age'] = np.int32(test['Age'] >= 65)  \n",
    "test['Middle_Age'] = np.int32((test['Age'] >= 15) & (test['Age'] <= 25))  "
   ]
  },
  {
   "cell_type": "code",
   "execution_count": 51,
   "id": "42d818fd",
   "metadata": {
    "execution": {
     "iopub.execute_input": "2021-11-25T09:16:52.219955Z",
     "iopub.status.busy": "2021-11-25T09:16:52.219349Z",
     "iopub.status.idle": "2021-11-25T09:16:52.225631Z",
     "shell.execute_reply": "2021-11-25T09:16:52.226105Z",
     "shell.execute_reply.started": "2021-11-25T09:06:06.793544Z"
    },
    "papermill": {
     "duration": 0.076991,
     "end_time": "2021-11-25T09:16:52.226278",
     "exception": false,
     "start_time": "2021-11-25T09:16:52.149287",
     "status": "completed"
    },
    "tags": []
   },
   "outputs": [],
   "source": [
    "X_train['Fare'] = X_train['Fare'] + 1\n",
    "X_test['Fare'] = X_test['Fare'] + 1\n",
    "X_train['Fare'] = X_train['Fare'].apply(np.log)\n",
    "X_test['Fare'] = X_test['Fare'].apply(np.log)"
   ]
  },
  {
   "cell_type": "code",
   "execution_count": 52,
   "id": "2b285672",
   "metadata": {
    "execution": {
     "iopub.execute_input": "2021-11-25T09:16:52.370183Z",
     "iopub.status.busy": "2021-11-25T09:16:52.369524Z",
     "iopub.status.idle": "2021-11-25T09:16:52.843876Z",
     "shell.execute_reply": "2021-11-25T09:16:52.844382Z",
     "shell.execute_reply.started": "2021-11-25T09:06:06.813610Z"
    },
    "papermill": {
     "duration": 0.54761,
     "end_time": "2021-11-25T09:16:52.844546",
     "exception": false,
     "start_time": "2021-11-25T09:16:52.296936",
     "status": "completed"
    },
    "tags": []
   },
   "outputs": [
    {
     "data": {
      "text/plain": [
       "<AxesSubplot:ylabel='Density'>"
      ]
     },
     "execution_count": 52,
     "metadata": {},
     "output_type": "execute_result"
    },
    {
     "data": {
      "image/png": "[encoded data removed]",
      "text/plain": [
       "<Figure size 1080x360 with 2 Axes>"
      ]
     },
     "metadata": {
      "needs_background": "light"
     },
     "output_type": "display_data"
    }
   ],
   "source": [
    "fig, (axis1,axis2) = plt.subplots(1,2,figsize=(15,5)) \n",
    "sns.distplot(X_train[X_train.Survived==1]['Fare'].dropna().values, bins=range(0, 10, 1),color='red', ax=axis1) \n",
    "sns.distplot(X_train[X_train.Survived==0]['Fare'].dropna().values, bins=range(0, 10, 1),color = 'blue', ax=axis1) \n",
    "sns.distplot(X_test[X_test.Survived==1]['Fare'].dropna().values, bins=range(0, 10, 1),color='red', ax=axis2) \n",
    "sns.distplot(X_test[X_test.Survived==0]['Fare'].dropna().values, bins=range(0, 10, 1),color = 'blue', ax=axis2)"
   ]
  },
  {
   "cell_type": "code",
   "execution_count": 53,
   "id": "8d211b73",
   "metadata": {
    "execution": {
     "iopub.execute_input": "2021-11-25T09:16:52.984027Z",
     "iopub.status.busy": "2021-11-25T09:16:52.983433Z",
     "iopub.status.idle": "2021-11-25T09:16:52.989587Z",
     "shell.execute_reply": "2021-11-25T09:16:52.990117Z",
     "shell.execute_reply.started": "2021-11-25T09:06:07.228663Z"
    },
    "papermill": {
     "duration": 0.077325,
     "end_time": "2021-11-25T09:16:52.990293",
     "exception": false,
     "start_time": "2021-11-25T09:16:52.912968",
     "status": "completed"
    },
    "tags": []
   },
   "outputs": [],
   "source": [
    "train['Fare'] = train['Fare'] + 1\n",
    "test['Fare'] = test['Fare'] + 1\n",
    "train['Fare'] = train['Fare'].apply(np.log)\n",
    "test['Fare'] = test['Fare'].apply(np.log) "
   ]
  },
  {
   "cell_type": "code",
   "execution_count": 54,
   "id": "5871e22f",
   "metadata": {
    "execution": {
     "iopub.execute_input": "2021-11-25T09:16:53.126660Z",
     "iopub.status.busy": "2021-11-25T09:16:53.126086Z",
     "iopub.status.idle": "2021-11-25T09:16:53.141456Z",
     "shell.execute_reply": "2021-11-25T09:16:53.141003Z",
     "shell.execute_reply.started": "2021-11-25T09:06:07.236064Z"
    },
    "papermill": {
     "duration": 0.083656,
     "end_time": "2021-11-25T09:16:53.141581",
     "exception": false,
     "start_time": "2021-11-25T09:16:53.057925",
     "status": "completed"
    },
    "tags": []
   },
   "outputs": [],
   "source": [
    "train['Fare_0_2'] = np.int32(train['Fare'] <= 2)\n",
    "train['Fare_2_3'] = np.int32((train['Fare'] > 2) & (train['Fare'] <= 3) )\n",
    "train['Fare_3_4'] = np.int32((train['Fare'] > 3) & (train['Fare'] <= 4) )\n",
    "train['Fare_4_5'] = np.int32((train['Fare'] > 4) & (train['Fare'] <= 5)) \n",
    "train['Fare_5_'] = np.int32(train['Fare'] > 5)\n",
    "test['Fare_0_2'] = np.int32(test['Fare'] <= 2)\n",
    "test['Fare_2_3'] = np.int32((test['Fare'] > 2) & (test['Fare'] <= 3) )\n",
    "test['Fare_3_4'] = np.int32((test['Fare'] > 3) & (test['Fare'] <= 4) )\n",
    "test['Fare_4_5'] = np.int32((test['Fare'] > 4) & (test['Fare'] <= 5)) \n",
    "test['Fare_5_'] = np.int32(test['Fare'] > 5)"
   ]
  },
  {
   "cell_type": "code",
   "execution_count": 55,
   "id": "b2ca5336",
   "metadata": {
    "execution": {
     "iopub.execute_input": "2021-11-25T09:16:53.277185Z",
     "iopub.status.busy": "2021-11-25T09:16:53.276566Z",
     "iopub.status.idle": "2021-11-25T09:16:53.296749Z",
     "shell.execute_reply": "2021-11-25T09:16:53.296165Z",
     "shell.execute_reply.started": "2021-11-25T09:06:07.261633Z"
    },
    "papermill": {
     "duration": 0.089182,
     "end_time": "2021-11-25T09:16:53.296882",
     "exception": false,
     "start_time": "2021-11-25T09:16:53.207700",
     "status": "completed"
    },
    "tags": []
   },
   "outputs": [
    {
     "data": {
      "text/html": [
       "<div>\n",
       "<style scoped>\n",
       "    .dataframe tbody tr th:only-of-type {\n",
       "        vertical-align: middle;\n",
       "    }\n",
       "\n",
       "    .dataframe tbody tr th {\n",
       "        vertical-align: top;\n",
       "    }\n",
       "\n",
       "    .dataframe thead th {\n",
       "        text-align: right;\n",
       "    }\n",
       "</style>\n",
       "<table border=\"1\" class=\"dataframe\">\n",
       "  <thead>\n",
       "    <tr style=\"text-align: right;\">\n",
       "      <th></th>\n",
       "      <th>PassengerId</th>\n",
       "      <th>Pclass</th>\n",
       "      <th>Name</th>\n",
       "      <th>Age</th>\n",
       "      <th>Ticket</th>\n",
       "      <th>Fare</th>\n",
       "      <th>Cabin</th>\n",
       "      <th>Sex_0</th>\n",
       "      <th>Sex_1</th>\n",
       "      <th>Name_Title_1</th>\n",
       "      <th>...</th>\n",
       "      <th>Pclass_2</th>\n",
       "      <th>Pclass_3</th>\n",
       "      <th>Small_Age</th>\n",
       "      <th>Old_Age</th>\n",
       "      <th>Middle_Age</th>\n",
       "      <th>Fare_0_2</th>\n",
       "      <th>Fare_2_3</th>\n",
       "      <th>Fare_3_4</th>\n",
       "      <th>Fare_4_5</th>\n",
       "      <th>Fare_5_</th>\n",
       "    </tr>\n",
       "  </thead>\n",
       "  <tbody>\n",
       "    <tr>\n",
       "      <th>0</th>\n",
       "      <td>1</td>\n",
       "      <td>3</td>\n",
       "      <td>Braund, Mr. Owen Harris</td>\n",
       "      <td>22.0</td>\n",
       "      <td>A/5 21171</td>\n",
       "      <td>2.110213</td>\n",
       "      <td>Missing</td>\n",
       "      <td>0</td>\n",
       "      <td>1</td>\n",
       "      <td>1</td>\n",
       "      <td>...</td>\n",
       "      <td>0</td>\n",
       "      <td>1</td>\n",
       "      <td>0</td>\n",
       "      <td>0</td>\n",
       "      <td>1</td>\n",
       "      <td>0</td>\n",
       "      <td>1</td>\n",
       "      <td>0</td>\n",
       "      <td>0</td>\n",
       "      <td>0</td>\n",
       "    </tr>\n",
       "    <tr>\n",
       "      <th>1</th>\n",
       "      <td>2</td>\n",
       "      <td>1</td>\n",
       "      <td>Cumings, Mrs. John Bradley (Florence Briggs Th...</td>\n",
       "      <td>38.0</td>\n",
       "      <td>PC 17599</td>\n",
       "      <td>4.280593</td>\n",
       "      <td>C85</td>\n",
       "      <td>1</td>\n",
       "      <td>0</td>\n",
       "      <td>0</td>\n",
       "      <td>...</td>\n",
       "      <td>0</td>\n",
       "      <td>0</td>\n",
       "      <td>0</td>\n",
       "      <td>0</td>\n",
       "      <td>0</td>\n",
       "      <td>0</td>\n",
       "      <td>0</td>\n",
       "      <td>0</td>\n",
       "      <td>1</td>\n",
       "      <td>0</td>\n",
       "    </tr>\n",
       "    <tr>\n",
       "      <th>2</th>\n",
       "      <td>3</td>\n",
       "      <td>3</td>\n",
       "      <td>Heikkinen, Miss. Laina</td>\n",
       "      <td>26.0</td>\n",
       "      <td>STON/O2. 3101282</td>\n",
       "      <td>2.188856</td>\n",
       "      <td>Missing</td>\n",
       "      <td>1</td>\n",
       "      <td>0</td>\n",
       "      <td>0</td>\n",
       "      <td>...</td>\n",
       "      <td>0</td>\n",
       "      <td>1</td>\n",
       "      <td>0</td>\n",
       "      <td>0</td>\n",
       "      <td>0</td>\n",
       "      <td>0</td>\n",
       "      <td>1</td>\n",
       "      <td>0</td>\n",
       "      <td>0</td>\n",
       "      <td>0</td>\n",
       "    </tr>\n",
       "    <tr>\n",
       "      <th>3</th>\n",
       "      <td>4</td>\n",
       "      <td>1</td>\n",
       "      <td>Futrelle, Mrs. Jacques Heath (Lily May Peel)</td>\n",
       "      <td>35.0</td>\n",
       "      <td>113803</td>\n",
       "      <td>3.990834</td>\n",
       "      <td>C123</td>\n",
       "      <td>1</td>\n",
       "      <td>0</td>\n",
       "      <td>0</td>\n",
       "      <td>...</td>\n",
       "      <td>0</td>\n",
       "      <td>0</td>\n",
       "      <td>0</td>\n",
       "      <td>0</td>\n",
       "      <td>0</td>\n",
       "      <td>0</td>\n",
       "      <td>0</td>\n",
       "      <td>1</td>\n",
       "      <td>0</td>\n",
       "      <td>0</td>\n",
       "    </tr>\n",
       "    <tr>\n",
       "      <th>4</th>\n",
       "      <td>5</td>\n",
       "      <td>3</td>\n",
       "      <td>Allen, Mr. William Henry</td>\n",
       "      <td>35.0</td>\n",
       "      <td>373450</td>\n",
       "      <td>2.202765</td>\n",
       "      <td>Missing</td>\n",
       "      <td>0</td>\n",
       "      <td>1</td>\n",
       "      <td>1</td>\n",
       "      <td>...</td>\n",
       "      <td>0</td>\n",
       "      <td>1</td>\n",
       "      <td>0</td>\n",
       "      <td>0</td>\n",
       "      <td>0</td>\n",
       "      <td>0</td>\n",
       "      <td>1</td>\n",
       "      <td>0</td>\n",
       "      <td>0</td>\n",
       "      <td>0</td>\n",
       "    </tr>\n",
       "  </tbody>\n",
       "</table>\n",
       "<p>5 rows × 50 columns</p>\n",
       "</div>"
      ],
      "text/plain": [
       "   PassengerId  Pclass                                               Name  \\\n",
       "0            1       3                            Braund, Mr. Owen Harris   \n",
       "1            2       1  Cumings, Mrs. John Bradley (Florence Briggs Th...   \n",
       "2            3       3                             Heikkinen, Miss. Laina   \n",
       "3            4       1       Futrelle, Mrs. Jacques Heath (Lily May Peel)   \n",
       "4            5       3                           Allen, Mr. William Henry   \n",
       "\n",
       "    Age            Ticket      Fare    Cabin  Sex_0  Sex_1  Name_Title_1  ...  \\\n",
       "0  22.0         A/5 21171  2.110213  Missing      0      1             1  ...   \n",
       "1  38.0          PC 17599  4.280593      C85      1      0             0  ...   \n",
       "2  26.0  STON/O2. 3101282  2.188856  Missing      1      0             0  ...   \n",
       "3  35.0            113803  3.990834     C123      1      0             0  ...   \n",
       "4  35.0            373450  2.202765  Missing      0      1             1  ...   \n",
       "\n",
       "   Pclass_2  Pclass_3  Small_Age  Old_Age  Middle_Age  Fare_0_2  Fare_2_3  \\\n",
       "0         0         1          0        0           1         0         1   \n",
       "1         0         0          0        0           0         0         0   \n",
       "2         0         1          0        0           0         0         1   \n",
       "3         0         0          0        0           0         0         0   \n",
       "4         0         1          0        0           0         0         1   \n",
       "\n",
       "   Fare_3_4  Fare_4_5  Fare_5_  \n",
       "0         0         0        0  \n",
       "1         0         1        0  \n",
       "2         0         0        0  \n",
       "3         1         0        0  \n",
       "4         0         0        0  \n",
       "\n",
       "[5 rows x 50 columns]"
      ]
     },
     "execution_count": 55,
     "metadata": {},
     "output_type": "execute_result"
    }
   ],
   "source": [
    "train.head()"
   ]
  },
  {
   "cell_type": "markdown",
   "id": "775fc56f",
   "metadata": {
    "papermill": {
     "duration": 0.066984,
     "end_time": "2021-11-25T09:16:53.431827",
     "exception": false,
     "start_time": "2021-11-25T09:16:53.364843",
     "status": "completed"
    },
    "tags": []
   },
   "source": [
    "model training"
   ]
  },
  {
   "cell_type": "code",
   "execution_count": 56,
   "id": "4624e9a9",
   "metadata": {
    "execution": {
     "iopub.execute_input": "2021-11-25T09:16:53.575224Z",
     "iopub.status.busy": "2021-11-25T09:16:53.574586Z",
     "iopub.status.idle": "2021-11-25T09:16:53.581443Z",
     "shell.execute_reply": "2021-11-25T09:16:53.581958Z",
     "shell.execute_reply.started": "2021-11-25T09:06:07.299100Z"
    },
    "papermill": {
     "duration": 0.08145,
     "end_time": "2021-11-25T09:16:53.582118",
     "exception": false,
     "start_time": "2021-11-25T09:16:53.500668",
     "status": "completed"
    },
    "tags": []
   },
   "outputs": [],
   "source": [
    "train.drop(['Ticket','PassengerId','Name','Age','Cabin','Pclass'],axis = 1, inplace=True)\n",
    "test.drop( ['PassengerId','Ticket','Name','Age','Cabin','Pclass'],axis =1, inplace=True)     "
   ]
  },
  {
   "cell_type": "code",
   "execution_count": 57,
   "id": "5c1a81e6",
   "metadata": {
    "execution": {
     "iopub.execute_input": "2021-11-25T09:16:53.720267Z",
     "iopub.status.busy": "2021-11-25T09:16:53.719585Z",
     "iopub.status.idle": "2021-11-25T09:16:53.725626Z",
     "shell.execute_reply": "2021-11-25T09:16:53.726059Z",
     "shell.execute_reply.started": "2021-11-25T09:06:46.629677Z"
    },
    "papermill": {
     "duration": 0.079239,
     "end_time": "2021-11-25T09:16:53.726238",
     "exception": false,
     "start_time": "2021-11-25T09:16:53.646999",
     "status": "completed"
    },
    "tags": []
   },
   "outputs": [],
   "source": [
    "X_train_ = train.loc[X_train.index]\n",
    "X_test_ = train.loc[X_test.index]\n",
    "Y_train_ = label.loc[X_train.index]\n",
    "Y_test_ = label.loc[X_test.index]\n",
    "X_test_ = X_test_[X_train_.columns]"
   ]
  },
  {
   "cell_type": "code",
   "execution_count": 58,
   "id": "6f92512f",
   "metadata": {
    "execution": {
     "iopub.execute_input": "2021-11-25T09:16:53.866807Z",
     "iopub.status.busy": "2021-11-25T09:16:53.866216Z",
     "iopub.status.idle": "2021-11-25T09:16:53.889052Z",
     "shell.execute_reply": "2021-11-25T09:16:53.889657Z",
     "shell.execute_reply.started": "2021-11-25T09:07:11.488491Z"
    },
    "papermill": {
     "duration": 0.095355,
     "end_time": "2021-11-25T09:16:53.889822",
     "exception": false,
     "start_time": "2021-11-25T09:16:53.794467",
     "status": "completed"
    },
    "tags": []
   },
   "outputs": [
    {
     "data": {
      "text/html": [
       "<div>\n",
       "<style scoped>\n",
       "    .dataframe tbody tr th:only-of-type {\n",
       "        vertical-align: middle;\n",
       "    }\n",
       "\n",
       "    .dataframe tbody tr th {\n",
       "        vertical-align: top;\n",
       "    }\n",
       "\n",
       "    .dataframe thead th {\n",
       "        text-align: right;\n",
       "    }\n",
       "</style>\n",
       "<table border=\"1\" class=\"dataframe\">\n",
       "  <thead>\n",
       "    <tr style=\"text-align: right;\">\n",
       "      <th></th>\n",
       "      <th>Fare</th>\n",
       "      <th>Sex_0</th>\n",
       "      <th>Sex_1</th>\n",
       "      <th>Name_Title_1</th>\n",
       "      <th>Name_Title_2</th>\n",
       "      <th>Name_Title_4</th>\n",
       "      <th>Name_Title_5</th>\n",
       "      <th>Name_len</th>\n",
       "      <th>Ticket_First_Letter_1</th>\n",
       "      <th>Ticket_First_Letter_2</th>\n",
       "      <th>Ticket_First_Letter_3</th>\n",
       "      <th>Ticket_First_Letter_4</th>\n",
       "      <th>Ticket_First_Letter_5</th>\n",
       "      <th>Ticket_First_Letter_6</th>\n",
       "      <th>Ticket_First_Letter_7</th>\n",
       "      <th>Ticket_First_Letter_8</th>\n",
       "      <th>Ticket_First_Letter_9</th>\n",
       "      <th>Ticket_First_Letter_10</th>\n",
       "      <th>Ticket_First_Letter_11</th>\n",
       "      <th>Cabin_num_(1.999, 28.667]</th>\n",
       "      <th>Cabin_num_(28.667, 65.667]</th>\n",
       "      <th>Cabin_num_(65.667, 148.0]</th>\n",
       "      <th>Cabin_First_Letter_1</th>\n",
       "      <th>Cabin_First_Letter_2</th>\n",
       "      <th>Cabin_First_Letter_3</th>\n",
       "      <th>Cabin_First_Letter_4</th>\n",
       "      <th>Cabin_First_Letter_5</th>\n",
       "      <th>Embarked_C</th>\n",
       "      <th>Embarked_Q</th>\n",
       "      <th>Embarked_S</th>\n",
       "      <th>Fam_Size_Big</th>\n",
       "      <th>Fam_Size_Nuclear</th>\n",
       "      <th>Fam_Size_Solo</th>\n",
       "      <th>Pclass_1</th>\n",
       "      <th>Pclass_2</th>\n",
       "      <th>Pclass_3</th>\n",
       "      <th>Small_Age</th>\n",
       "      <th>Old_Age</th>\n",
       "      <th>Middle_Age</th>\n",
       "      <th>Fare_0_2</th>\n",
       "      <th>Fare_2_3</th>\n",
       "      <th>Fare_3_4</th>\n",
       "      <th>Fare_4_5</th>\n",
       "      <th>Fare_5_</th>\n",
       "    </tr>\n",
       "  </thead>\n",
       "  <tbody>\n",
       "    <tr>\n",
       "      <th>0</th>\n",
       "      <td>2.110213</td>\n",
       "      <td>0</td>\n",
       "      <td>1</td>\n",
       "      <td>1</td>\n",
       "      <td>0</td>\n",
       "      <td>0</td>\n",
       "      <td>0</td>\n",
       "      <td>23</td>\n",
       "      <td>0</td>\n",
       "      <td>0</td>\n",
       "      <td>0</td>\n",
       "      <td>0</td>\n",
       "      <td>0</td>\n",
       "      <td>0</td>\n",
       "      <td>0</td>\n",
       "      <td>0</td>\n",
       "      <td>1</td>\n",
       "      <td>0</td>\n",
       "      <td>0</td>\n",
       "      <td>0</td>\n",
       "      <td>0</td>\n",
       "      <td>0</td>\n",
       "      <td>1</td>\n",
       "      <td>0</td>\n",
       "      <td>0</td>\n",
       "      <td>0</td>\n",
       "      <td>0</td>\n",
       "      <td>0</td>\n",
       "      <td>0</td>\n",
       "      <td>1</td>\n",
       "      <td>0</td>\n",
       "      <td>1</td>\n",
       "      <td>0</td>\n",
       "      <td>0</td>\n",
       "      <td>0</td>\n",
       "      <td>1</td>\n",
       "      <td>0</td>\n",
       "      <td>0</td>\n",
       "      <td>1</td>\n",
       "      <td>0</td>\n",
       "      <td>1</td>\n",
       "      <td>0</td>\n",
       "      <td>0</td>\n",
       "      <td>0</td>\n",
       "    </tr>\n",
       "    <tr>\n",
       "      <th>1</th>\n",
       "      <td>4.280593</td>\n",
       "      <td>1</td>\n",
       "      <td>0</td>\n",
       "      <td>0</td>\n",
       "      <td>1</td>\n",
       "      <td>0</td>\n",
       "      <td>0</td>\n",
       "      <td>51</td>\n",
       "      <td>0</td>\n",
       "      <td>0</td>\n",
       "      <td>0</td>\n",
       "      <td>0</td>\n",
       "      <td>0</td>\n",
       "      <td>1</td>\n",
       "      <td>0</td>\n",
       "      <td>0</td>\n",
       "      <td>0</td>\n",
       "      <td>0</td>\n",
       "      <td>0</td>\n",
       "      <td>0</td>\n",
       "      <td>0</td>\n",
       "      <td>1</td>\n",
       "      <td>0</td>\n",
       "      <td>0</td>\n",
       "      <td>1</td>\n",
       "      <td>0</td>\n",
       "      <td>0</td>\n",
       "      <td>1</td>\n",
       "      <td>0</td>\n",
       "      <td>0</td>\n",
       "      <td>0</td>\n",
       "      <td>1</td>\n",
       "      <td>0</td>\n",
       "      <td>1</td>\n",
       "      <td>0</td>\n",
       "      <td>0</td>\n",
       "      <td>0</td>\n",
       "      <td>0</td>\n",
       "      <td>0</td>\n",
       "      <td>0</td>\n",
       "      <td>0</td>\n",
       "      <td>0</td>\n",
       "      <td>1</td>\n",
       "      <td>0</td>\n",
       "    </tr>\n",
       "    <tr>\n",
       "      <th>2</th>\n",
       "      <td>2.188856</td>\n",
       "      <td>1</td>\n",
       "      <td>0</td>\n",
       "      <td>0</td>\n",
       "      <td>0</td>\n",
       "      <td>0</td>\n",
       "      <td>1</td>\n",
       "      <td>22</td>\n",
       "      <td>0</td>\n",
       "      <td>0</td>\n",
       "      <td>0</td>\n",
       "      <td>0</td>\n",
       "      <td>1</td>\n",
       "      <td>0</td>\n",
       "      <td>0</td>\n",
       "      <td>0</td>\n",
       "      <td>0</td>\n",
       "      <td>0</td>\n",
       "      <td>0</td>\n",
       "      <td>0</td>\n",
       "      <td>0</td>\n",
       "      <td>0</td>\n",
       "      <td>1</td>\n",
       "      <td>0</td>\n",
       "      <td>0</td>\n",
       "      <td>0</td>\n",
       "      <td>0</td>\n",
       "      <td>0</td>\n",
       "      <td>0</td>\n",
       "      <td>1</td>\n",
       "      <td>0</td>\n",
       "      <td>0</td>\n",
       "      <td>1</td>\n",
       "      <td>0</td>\n",
       "      <td>0</td>\n",
       "      <td>1</td>\n",
       "      <td>0</td>\n",
       "      <td>0</td>\n",
       "      <td>0</td>\n",
       "      <td>0</td>\n",
       "      <td>1</td>\n",
       "      <td>0</td>\n",
       "      <td>0</td>\n",
       "      <td>0</td>\n",
       "    </tr>\n",
       "    <tr>\n",
       "      <th>3</th>\n",
       "      <td>3.990834</td>\n",
       "      <td>1</td>\n",
       "      <td>0</td>\n",
       "      <td>0</td>\n",
       "      <td>1</td>\n",
       "      <td>0</td>\n",
       "      <td>0</td>\n",
       "      <td>44</td>\n",
       "      <td>1</td>\n",
       "      <td>0</td>\n",
       "      <td>0</td>\n",
       "      <td>0</td>\n",
       "      <td>0</td>\n",
       "      <td>0</td>\n",
       "      <td>0</td>\n",
       "      <td>0</td>\n",
       "      <td>0</td>\n",
       "      <td>0</td>\n",
       "      <td>0</td>\n",
       "      <td>0</td>\n",
       "      <td>0</td>\n",
       "      <td>1</td>\n",
       "      <td>0</td>\n",
       "      <td>0</td>\n",
       "      <td>1</td>\n",
       "      <td>0</td>\n",
       "      <td>0</td>\n",
       "      <td>0</td>\n",
       "      <td>0</td>\n",
       "      <td>1</td>\n",
       "      <td>0</td>\n",
       "      <td>1</td>\n",
       "      <td>0</td>\n",
       "      <td>1</td>\n",
       "      <td>0</td>\n",
       "      <td>0</td>\n",
       "      <td>0</td>\n",
       "      <td>0</td>\n",
       "      <td>0</td>\n",
       "      <td>0</td>\n",
       "      <td>0</td>\n",
       "      <td>1</td>\n",
       "      <td>0</td>\n",
       "      <td>0</td>\n",
       "    </tr>\n",
       "    <tr>\n",
       "      <th>4</th>\n",
       "      <td>2.202765</td>\n",
       "      <td>0</td>\n",
       "      <td>1</td>\n",
       "      <td>1</td>\n",
       "      <td>0</td>\n",
       "      <td>0</td>\n",
       "      <td>0</td>\n",
       "      <td>24</td>\n",
       "      <td>0</td>\n",
       "      <td>1</td>\n",
       "      <td>0</td>\n",
       "      <td>0</td>\n",
       "      <td>0</td>\n",
       "      <td>0</td>\n",
       "      <td>0</td>\n",
       "      <td>0</td>\n",
       "      <td>0</td>\n",
       "      <td>0</td>\n",
       "      <td>0</td>\n",
       "      <td>0</td>\n",
       "      <td>0</td>\n",
       "      <td>0</td>\n",
       "      <td>1</td>\n",
       "      <td>0</td>\n",
       "      <td>0</td>\n",
       "      <td>0</td>\n",
       "      <td>0</td>\n",
       "      <td>0</td>\n",
       "      <td>0</td>\n",
       "      <td>1</td>\n",
       "      <td>0</td>\n",
       "      <td>0</td>\n",
       "      <td>1</td>\n",
       "      <td>0</td>\n",
       "      <td>0</td>\n",
       "      <td>1</td>\n",
       "      <td>0</td>\n",
       "      <td>0</td>\n",
       "      <td>0</td>\n",
       "      <td>0</td>\n",
       "      <td>1</td>\n",
       "      <td>0</td>\n",
       "      <td>0</td>\n",
       "      <td>0</td>\n",
       "    </tr>\n",
       "  </tbody>\n",
       "</table>\n",
       "</div>"
      ],
      "text/plain": [
       "       Fare  Sex_0  Sex_1  Name_Title_1  Name_Title_2  Name_Title_4  \\\n",
       "0  2.110213      0      1             1             0             0   \n",
       "1  4.280593      1      0             0             1             0   \n",
       "2  2.188856      1      0             0             0             0   \n",
       "3  3.990834      1      0             0             1             0   \n",
       "4  2.202765      0      1             1             0             0   \n",
       "\n",
       "   Name_Title_5  Name_len  Ticket_First_Letter_1  Ticket_First_Letter_2  \\\n",
       "0             0        23                      0                      0   \n",
       "1             0        51                      0                      0   \n",
       "2             1        22                      0                      0   \n",
       "3             0        44                      1                      0   \n",
       "4             0        24                      0                      1   \n",
       "\n",
       "   Ticket_First_Letter_3  Ticket_First_Letter_4  Ticket_First_Letter_5  \\\n",
       "0                      0                      0                      0   \n",
       "1                      0                      0                      0   \n",
       "2                      0                      0                      1   \n",
       "3                      0                      0                      0   \n",
       "4                      0                      0                      0   \n",
       "\n",
       "   Ticket_First_Letter_6  Ticket_First_Letter_7  Ticket_First_Letter_8  \\\n",
       "0                      0                      0                      0   \n",
       "1                      1                      0                      0   \n",
       "2                      0                      0                      0   \n",
       "3                      0                      0                      0   \n",
       "4                      0                      0                      0   \n",
       "\n",
       "   Ticket_First_Letter_9  Ticket_First_Letter_10  Ticket_First_Letter_11  \\\n",
       "0                      1                       0                       0   \n",
       "1                      0                       0                       0   \n",
       "2                      0                       0                       0   \n",
       "3                      0                       0                       0   \n",
       "4                      0                       0                       0   \n",
       "\n",
       "   Cabin_num_(1.999, 28.667]  Cabin_num_(28.667, 65.667]  \\\n",
       "0                          0                           0   \n",
       "1                          0                           0   \n",
       "2                          0                           0   \n",
       "3                          0                           0   \n",
       "4                          0                           0   \n",
       "\n",
       "   Cabin_num_(65.667, 148.0]  Cabin_First_Letter_1  Cabin_First_Letter_2  \\\n",
       "0                          0                     1                     0   \n",
       "1                          1                     0                     0   \n",
       "2                          0                     1                     0   \n",
       "3                          1                     0                     0   \n",
       "4                          0                     1                     0   \n",
       "\n",
       "   Cabin_First_Letter_3  Cabin_First_Letter_4  Cabin_First_Letter_5  \\\n",
       "0                     0                     0                     0   \n",
       "1                     1                     0                     0   \n",
       "2                     0                     0                     0   \n",
       "3                     1                     0                     0   \n",
       "4                     0                     0                     0   \n",
       "\n",
       "   Embarked_C  Embarked_Q  Embarked_S  Fam_Size_Big  Fam_Size_Nuclear  \\\n",
       "0           0           0           1             0                 1   \n",
       "1           1           0           0             0                 1   \n",
       "2           0           0           1             0                 0   \n",
       "3           0           0           1             0                 1   \n",
       "4           0           0           1             0                 0   \n",
       "\n",
       "   Fam_Size_Solo  Pclass_1  Pclass_2  Pclass_3  Small_Age  Old_Age  \\\n",
       "0              0         0         0         1          0        0   \n",
       "1              0         1         0         0          0        0   \n",
       "2              1         0         0         1          0        0   \n",
       "3              0         1         0         0          0        0   \n",
       "4              1         0         0         1          0        0   \n",
       "\n",
       "   Middle_Age  Fare_0_2  Fare_2_3  Fare_3_4  Fare_4_5  Fare_5_  \n",
       "0           1         0         1         0         0        0  \n",
       "1           0         0         0         0         1        0  \n",
       "2           0         0         1         0         0        0  \n",
       "3           0         0         0         1         0        0  \n",
       "4           0         0         1         0         0        0  "
      ]
     },
     "execution_count": 58,
     "metadata": {},
     "output_type": "execute_result"
    }
   ],
   "source": [
    "pd.set_option('display.max_columns',50)\n",
    "train.head()"
   ]
  },
  {
   "cell_type": "code",
   "execution_count": 59,
   "id": "93c62abc",
   "metadata": {
    "execution": {
     "iopub.execute_input": "2021-11-25T09:16:54.032793Z",
     "iopub.status.busy": "2021-11-25T09:16:54.032186Z",
     "iopub.status.idle": "2021-11-25T09:16:54.036171Z",
     "shell.execute_reply": "2021-11-25T09:16:54.036677Z",
     "shell.execute_reply.started": "2021-11-25T09:08:37.814860Z"
    },
    "papermill": {
     "duration": 0.077771,
     "end_time": "2021-11-25T09:16:54.036843",
     "exception": false,
     "start_time": "2021-11-25T09:16:53.959072",
     "status": "completed"
    },
    "tags": []
   },
   "outputs": [],
   "source": [
    "test=test[train.columns]"
   ]
  },
  {
   "cell_type": "code",
   "execution_count": 60,
   "id": "07be997b",
   "metadata": {
    "execution": {
     "iopub.execute_input": "2021-11-25T09:16:54.179301Z",
     "iopub.status.busy": "2021-11-25T09:16:54.178677Z",
     "iopub.status.idle": "2021-11-25T09:16:54.200916Z",
     "shell.execute_reply": "2021-11-25T09:16:54.201411Z",
     "shell.execute_reply.started": "2021-11-25T09:08:48.999386Z"
    },
    "papermill": {
     "duration": 0.094472,
     "end_time": "2021-11-25T09:16:54.201565",
     "exception": false,
     "start_time": "2021-11-25T09:16:54.107093",
     "status": "completed"
    },
    "tags": []
   },
   "outputs": [
    {
     "data": {
      "text/html": [
       "<div>\n",
       "<style scoped>\n",
       "    .dataframe tbody tr th:only-of-type {\n",
       "        vertical-align: middle;\n",
       "    }\n",
       "\n",
       "    .dataframe tbody tr th {\n",
       "        vertical-align: top;\n",
       "    }\n",
       "\n",
       "    .dataframe thead th {\n",
       "        text-align: right;\n",
       "    }\n",
       "</style>\n",
       "<table border=\"1\" class=\"dataframe\">\n",
       "  <thead>\n",
       "    <tr style=\"text-align: right;\">\n",
       "      <th></th>\n",
       "      <th>Fare</th>\n",
       "      <th>Sex_0</th>\n",
       "      <th>Sex_1</th>\n",
       "      <th>Name_Title_1</th>\n",
       "      <th>Name_Title_2</th>\n",
       "      <th>Name_Title_4</th>\n",
       "      <th>Name_Title_5</th>\n",
       "      <th>Name_len</th>\n",
       "      <th>Ticket_First_Letter_1</th>\n",
       "      <th>Ticket_First_Letter_2</th>\n",
       "      <th>Ticket_First_Letter_3</th>\n",
       "      <th>Ticket_First_Letter_4</th>\n",
       "      <th>Ticket_First_Letter_5</th>\n",
       "      <th>Ticket_First_Letter_6</th>\n",
       "      <th>Ticket_First_Letter_7</th>\n",
       "      <th>Ticket_First_Letter_8</th>\n",
       "      <th>Ticket_First_Letter_9</th>\n",
       "      <th>Ticket_First_Letter_10</th>\n",
       "      <th>Ticket_First_Letter_11</th>\n",
       "      <th>Cabin_num_(1.999, 28.667]</th>\n",
       "      <th>Cabin_num_(28.667, 65.667]</th>\n",
       "      <th>Cabin_num_(65.667, 148.0]</th>\n",
       "      <th>Cabin_First_Letter_1</th>\n",
       "      <th>Cabin_First_Letter_2</th>\n",
       "      <th>Cabin_First_Letter_3</th>\n",
       "      <th>Cabin_First_Letter_4</th>\n",
       "      <th>Cabin_First_Letter_5</th>\n",
       "      <th>Embarked_C</th>\n",
       "      <th>Embarked_Q</th>\n",
       "      <th>Embarked_S</th>\n",
       "      <th>Fam_Size_Big</th>\n",
       "      <th>Fam_Size_Nuclear</th>\n",
       "      <th>Fam_Size_Solo</th>\n",
       "      <th>Pclass_1</th>\n",
       "      <th>Pclass_2</th>\n",
       "      <th>Pclass_3</th>\n",
       "      <th>Small_Age</th>\n",
       "      <th>Old_Age</th>\n",
       "      <th>Middle_Age</th>\n",
       "      <th>Fare_0_2</th>\n",
       "      <th>Fare_2_3</th>\n",
       "      <th>Fare_3_4</th>\n",
       "      <th>Fare_4_5</th>\n",
       "      <th>Fare_5_</th>\n",
       "    </tr>\n",
       "  </thead>\n",
       "  <tbody>\n",
       "    <tr>\n",
       "      <th>0</th>\n",
       "      <td>2.178064</td>\n",
       "      <td>0</td>\n",
       "      <td>1</td>\n",
       "      <td>1</td>\n",
       "      <td>0</td>\n",
       "      <td>0</td>\n",
       "      <td>0</td>\n",
       "      <td>16</td>\n",
       "      <td>0</td>\n",
       "      <td>1</td>\n",
       "      <td>0</td>\n",
       "      <td>0</td>\n",
       "      <td>0</td>\n",
       "      <td>0</td>\n",
       "      <td>0</td>\n",
       "      <td>0</td>\n",
       "      <td>0</td>\n",
       "      <td>0</td>\n",
       "      <td>0</td>\n",
       "      <td>0</td>\n",
       "      <td>0</td>\n",
       "      <td>0</td>\n",
       "      <td>1</td>\n",
       "      <td>0</td>\n",
       "      <td>0</td>\n",
       "      <td>0</td>\n",
       "      <td>0</td>\n",
       "      <td>0</td>\n",
       "      <td>1</td>\n",
       "      <td>0</td>\n",
       "      <td>0</td>\n",
       "      <td>0</td>\n",
       "      <td>1</td>\n",
       "      <td>0</td>\n",
       "      <td>0</td>\n",
       "      <td>1</td>\n",
       "      <td>0</td>\n",
       "      <td>0</td>\n",
       "      <td>0</td>\n",
       "      <td>0</td>\n",
       "      <td>1</td>\n",
       "      <td>0</td>\n",
       "      <td>0</td>\n",
       "      <td>0</td>\n",
       "    </tr>\n",
       "    <tr>\n",
       "      <th>1</th>\n",
       "      <td>2.079442</td>\n",
       "      <td>1</td>\n",
       "      <td>0</td>\n",
       "      <td>0</td>\n",
       "      <td>1</td>\n",
       "      <td>0</td>\n",
       "      <td>0</td>\n",
       "      <td>32</td>\n",
       "      <td>0</td>\n",
       "      <td>1</td>\n",
       "      <td>0</td>\n",
       "      <td>0</td>\n",
       "      <td>0</td>\n",
       "      <td>0</td>\n",
       "      <td>0</td>\n",
       "      <td>0</td>\n",
       "      <td>0</td>\n",
       "      <td>0</td>\n",
       "      <td>0</td>\n",
       "      <td>0</td>\n",
       "      <td>0</td>\n",
       "      <td>1</td>\n",
       "      <td>1</td>\n",
       "      <td>0</td>\n",
       "      <td>0</td>\n",
       "      <td>0</td>\n",
       "      <td>0</td>\n",
       "      <td>0</td>\n",
       "      <td>0</td>\n",
       "      <td>1</td>\n",
       "      <td>0</td>\n",
       "      <td>1</td>\n",
       "      <td>0</td>\n",
       "      <td>0</td>\n",
       "      <td>0</td>\n",
       "      <td>1</td>\n",
       "      <td>0</td>\n",
       "      <td>0</td>\n",
       "      <td>0</td>\n",
       "      <td>0</td>\n",
       "      <td>1</td>\n",
       "      <td>0</td>\n",
       "      <td>0</td>\n",
       "      <td>0</td>\n",
       "    </tr>\n",
       "    <tr>\n",
       "      <th>2</th>\n",
       "      <td>2.369075</td>\n",
       "      <td>0</td>\n",
       "      <td>1</td>\n",
       "      <td>1</td>\n",
       "      <td>0</td>\n",
       "      <td>0</td>\n",
       "      <td>0</td>\n",
       "      <td>25</td>\n",
       "      <td>0</td>\n",
       "      <td>0</td>\n",
       "      <td>0</td>\n",
       "      <td>0</td>\n",
       "      <td>0</td>\n",
       "      <td>0</td>\n",
       "      <td>0</td>\n",
       "      <td>0</td>\n",
       "      <td>0</td>\n",
       "      <td>0</td>\n",
       "      <td>1</td>\n",
       "      <td>0</td>\n",
       "      <td>0</td>\n",
       "      <td>0</td>\n",
       "      <td>1</td>\n",
       "      <td>0</td>\n",
       "      <td>0</td>\n",
       "      <td>0</td>\n",
       "      <td>0</td>\n",
       "      <td>0</td>\n",
       "      <td>1</td>\n",
       "      <td>0</td>\n",
       "      <td>0</td>\n",
       "      <td>0</td>\n",
       "      <td>1</td>\n",
       "      <td>0</td>\n",
       "      <td>1</td>\n",
       "      <td>0</td>\n",
       "      <td>0</td>\n",
       "      <td>0</td>\n",
       "      <td>0</td>\n",
       "      <td>0</td>\n",
       "      <td>1</td>\n",
       "      <td>0</td>\n",
       "      <td>0</td>\n",
       "      <td>0</td>\n",
       "    </tr>\n",
       "    <tr>\n",
       "      <th>3</th>\n",
       "      <td>2.268252</td>\n",
       "      <td>0</td>\n",
       "      <td>1</td>\n",
       "      <td>1</td>\n",
       "      <td>0</td>\n",
       "      <td>0</td>\n",
       "      <td>0</td>\n",
       "      <td>16</td>\n",
       "      <td>0</td>\n",
       "      <td>1</td>\n",
       "      <td>0</td>\n",
       "      <td>0</td>\n",
       "      <td>0</td>\n",
       "      <td>0</td>\n",
       "      <td>0</td>\n",
       "      <td>0</td>\n",
       "      <td>0</td>\n",
       "      <td>0</td>\n",
       "      <td>0</td>\n",
       "      <td>0</td>\n",
       "      <td>0</td>\n",
       "      <td>1</td>\n",
       "      <td>1</td>\n",
       "      <td>0</td>\n",
       "      <td>0</td>\n",
       "      <td>0</td>\n",
       "      <td>0</td>\n",
       "      <td>0</td>\n",
       "      <td>0</td>\n",
       "      <td>1</td>\n",
       "      <td>0</td>\n",
       "      <td>0</td>\n",
       "      <td>1</td>\n",
       "      <td>0</td>\n",
       "      <td>0</td>\n",
       "      <td>1</td>\n",
       "      <td>0</td>\n",
       "      <td>0</td>\n",
       "      <td>0</td>\n",
       "      <td>0</td>\n",
       "      <td>1</td>\n",
       "      <td>0</td>\n",
       "      <td>0</td>\n",
       "      <td>0</td>\n",
       "    </tr>\n",
       "    <tr>\n",
       "      <th>4</th>\n",
       "      <td>2.586824</td>\n",
       "      <td>1</td>\n",
       "      <td>0</td>\n",
       "      <td>0</td>\n",
       "      <td>1</td>\n",
       "      <td>0</td>\n",
       "      <td>0</td>\n",
       "      <td>44</td>\n",
       "      <td>0</td>\n",
       "      <td>1</td>\n",
       "      <td>0</td>\n",
       "      <td>0</td>\n",
       "      <td>0</td>\n",
       "      <td>0</td>\n",
       "      <td>0</td>\n",
       "      <td>0</td>\n",
       "      <td>0</td>\n",
       "      <td>0</td>\n",
       "      <td>0</td>\n",
       "      <td>0</td>\n",
       "      <td>0</td>\n",
       "      <td>0</td>\n",
       "      <td>1</td>\n",
       "      <td>0</td>\n",
       "      <td>0</td>\n",
       "      <td>0</td>\n",
       "      <td>0</td>\n",
       "      <td>0</td>\n",
       "      <td>0</td>\n",
       "      <td>1</td>\n",
       "      <td>0</td>\n",
       "      <td>1</td>\n",
       "      <td>0</td>\n",
       "      <td>0</td>\n",
       "      <td>0</td>\n",
       "      <td>1</td>\n",
       "      <td>0</td>\n",
       "      <td>0</td>\n",
       "      <td>1</td>\n",
       "      <td>0</td>\n",
       "      <td>1</td>\n",
       "      <td>0</td>\n",
       "      <td>0</td>\n",
       "      <td>0</td>\n",
       "    </tr>\n",
       "  </tbody>\n",
       "</table>\n",
       "</div>"
      ],
      "text/plain": [
       "       Fare  Sex_0  Sex_1  Name_Title_1  Name_Title_2  Name_Title_4  \\\n",
       "0  2.178064      0      1             1             0             0   \n",
       "1  2.079442      1      0             0             1             0   \n",
       "2  2.369075      0      1             1             0             0   \n",
       "3  2.268252      0      1             1             0             0   \n",
       "4  2.586824      1      0             0             1             0   \n",
       "\n",
       "   Name_Title_5  Name_len  Ticket_First_Letter_1  Ticket_First_Letter_2  \\\n",
       "0             0        16                      0                      1   \n",
       "1             0        32                      0                      1   \n",
       "2             0        25                      0                      0   \n",
       "3             0        16                      0                      1   \n",
       "4             0        44                      0                      1   \n",
       "\n",
       "   Ticket_First_Letter_3  Ticket_First_Letter_4  Ticket_First_Letter_5  \\\n",
       "0                      0                      0                      0   \n",
       "1                      0                      0                      0   \n",
       "2                      0                      0                      0   \n",
       "3                      0                      0                      0   \n",
       "4                      0                      0                      0   \n",
       "\n",
       "   Ticket_First_Letter_6  Ticket_First_Letter_7  Ticket_First_Letter_8  \\\n",
       "0                      0                      0                      0   \n",
       "1                      0                      0                      0   \n",
       "2                      0                      0                      0   \n",
       "3                      0                      0                      0   \n",
       "4                      0                      0                      0   \n",
       "\n",
       "   Ticket_First_Letter_9  Ticket_First_Letter_10  Ticket_First_Letter_11  \\\n",
       "0                      0                       0                       0   \n",
       "1                      0                       0                       0   \n",
       "2                      0                       0                       1   \n",
       "3                      0                       0                       0   \n",
       "4                      0                       0                       0   \n",
       "\n",
       "   Cabin_num_(1.999, 28.667]  Cabin_num_(28.667, 65.667]  \\\n",
       "0                          0                           0   \n",
       "1                          0                           0   \n",
       "2                          0                           0   \n",
       "3                          0                           0   \n",
       "4                          0                           0   \n",
       "\n",
       "   Cabin_num_(65.667, 148.0]  Cabin_First_Letter_1  Cabin_First_Letter_2  \\\n",
       "0                          0                     1                     0   \n",
       "1                          1                     1                     0   \n",
       "2                          0                     1                     0   \n",
       "3                          1                     1                     0   \n",
       "4                          0                     1                     0   \n",
       "\n",
       "   Cabin_First_Letter_3  Cabin_First_Letter_4  Cabin_First_Letter_5  \\\n",
       "0                     0                     0                     0   \n",
       "1                     0                     0                     0   \n",
       "2                     0                     0                     0   \n",
       "3                     0                     0                     0   \n",
       "4                     0                     0                     0   \n",
       "\n",
       "   Embarked_C  Embarked_Q  Embarked_S  Fam_Size_Big  Fam_Size_Nuclear  \\\n",
       "0           0           1           0             0                 0   \n",
       "1           0           0           1             0                 1   \n",
       "2           0           1           0             0                 0   \n",
       "3           0           0           1             0                 0   \n",
       "4           0           0           1             0                 1   \n",
       "\n",
       "   Fam_Size_Solo  Pclass_1  Pclass_2  Pclass_3  Small_Age  Old_Age  \\\n",
       "0              1         0         0         1          0        0   \n",
       "1              0         0         0         1          0        0   \n",
       "2              1         0         1         0          0        0   \n",
       "3              1         0         0         1          0        0   \n",
       "4              0         0         0         1          0        0   \n",
       "\n",
       "   Middle_Age  Fare_0_2  Fare_2_3  Fare_3_4  Fare_4_5  Fare_5_  \n",
       "0           0         0         1         0         0        0  \n",
       "1           0         0         1         0         0        0  \n",
       "2           0         0         1         0         0        0  \n",
       "3           0         0         1         0         0        0  \n",
       "4           1         0         1         0         0        0  "
      ]
     },
     "execution_count": 60,
     "metadata": {},
     "output_type": "execute_result"
    }
   ],
   "source": [
    "test.head()"
   ]
  },
  {
   "cell_type": "code",
   "execution_count": 61,
   "id": "612bd84d",
   "metadata": {
    "execution": {
     "iopub.execute_input": "2021-11-25T09:16:54.342769Z",
     "iopub.status.busy": "2021-11-25T09:16:54.342218Z",
     "iopub.status.idle": "2021-11-25T09:16:56.429315Z",
     "shell.execute_reply": "2021-11-25T09:16:56.428722Z",
     "shell.execute_reply.started": "2021-11-25T09:09:30.455714Z"
    },
    "papermill": {
     "duration": 2.159176,
     "end_time": "2021-11-25T09:16:56.429470",
     "exception": false,
     "start_time": "2021-11-25T09:16:54.270294",
     "status": "completed"
    },
    "tags": []
   },
   "outputs": [
    {
     "data": {
      "text/plain": [
       "0.7947761194029851"
      ]
     },
     "execution_count": 61,
     "metadata": {},
     "output_type": "execute_result"
    }
   ],
   "source": [
    "rf_ = RandomForestClassifier(criterion='gini', \n",
    "                             n_estimators=700,#                              max_depth=5,\n",
    "                             min_samples_split=16,\n",
    "                             min_samples_leaf=1,\n",
    "                             max_features='auto',  \n",
    "                             random_state=10,\n",
    "                             n_jobs=-1) \n",
    "rf_.fit(X_train_,Y_train_) \n",
    "rf_.score(X_test_,Y_test_)"
   ]
  },
  {
   "cell_type": "code",
   "execution_count": 62,
   "id": "03c1482f",
   "metadata": {
    "execution": {
     "iopub.execute_input": "2021-11-25T09:16:56.571324Z",
     "iopub.status.busy": "2021-11-25T09:16:56.570678Z",
     "iopub.status.idle": "2021-11-25T09:16:58.443174Z",
     "shell.execute_reply": "2021-11-25T09:16:58.443603Z",
     "shell.execute_reply.started": "2021-11-25T09:10:05.664393Z"
    },
    "papermill": {
     "duration": 1.946067,
     "end_time": "2021-11-25T09:16:58.443767",
     "exception": false,
     "start_time": "2021-11-25T09:16:56.497700",
     "status": "completed"
    },
    "tags": []
   },
   "outputs": [
    {
     "data": {
      "text/plain": [
       "RandomForestClassifier(min_samples_split=16, n_estimators=700, n_jobs=-1,\n",
       "                       random_state=10)"
      ]
     },
     "execution_count": 62,
     "metadata": {},
     "output_type": "execute_result"
    }
   ],
   "source": [
    "rf_.fit(train,label)"
   ]
  },
  {
   "cell_type": "code",
   "execution_count": 63,
   "id": "cc5715fe",
   "metadata": {
    "execution": {
     "iopub.execute_input": "2021-11-25T09:16:58.590506Z",
     "iopub.status.busy": "2021-11-25T09:16:58.589490Z",
     "iopub.status.idle": "2021-11-25T09:16:58.703226Z",
     "shell.execute_reply": "2021-11-25T09:16:58.703706Z",
     "shell.execute_reply.started": "2021-11-25T09:10:46.543130Z"
    },
    "papermill": {
     "duration": 0.190399,
     "end_time": "2021-11-25T09:16:58.703888",
     "exception": false,
     "start_time": "2021-11-25T09:16:58.513489",
     "status": "completed"
    },
    "tags": []
   },
   "outputs": [
    {
     "data": {
      "text/html": [
       "<div>\n",
       "<style scoped>\n",
       "    .dataframe tbody tr th:only-of-type {\n",
       "        vertical-align: middle;\n",
       "    }\n",
       "\n",
       "    .dataframe tbody tr th {\n",
       "        vertical-align: top;\n",
       "    }\n",
       "\n",
       "    .dataframe thead th {\n",
       "        text-align: right;\n",
       "    }\n",
       "</style>\n",
       "<table border=\"1\" class=\"dataframe\">\n",
       "  <thead>\n",
       "    <tr style=\"text-align: right;\">\n",
       "      <th></th>\n",
       "      <th>variable</th>\n",
       "      <th>importance</th>\n",
       "    </tr>\n",
       "  </thead>\n",
       "  <tbody>\n",
       "    <tr>\n",
       "      <th>3</th>\n",
       "      <td>Name_Title_1</td>\n",
       "      <td>0.138469</td>\n",
       "    </tr>\n",
       "    <tr>\n",
       "      <th>2</th>\n",
       "      <td>Sex_1</td>\n",
       "      <td>0.119839</td>\n",
       "    </tr>\n",
       "    <tr>\n",
       "      <th>1</th>\n",
       "      <td>Sex_0</td>\n",
       "      <td>0.114148</td>\n",
       "    </tr>\n",
       "    <tr>\n",
       "      <th>0</th>\n",
       "      <td>Fare</td>\n",
       "      <td>0.087414</td>\n",
       "    </tr>\n",
       "    <tr>\n",
       "      <th>7</th>\n",
       "      <td>Name_len</td>\n",
       "      <td>0.081790</td>\n",
       "    </tr>\n",
       "    <tr>\n",
       "      <th>6</th>\n",
       "      <td>Name_Title_5</td>\n",
       "      <td>0.053304</td>\n",
       "    </tr>\n",
       "    <tr>\n",
       "      <th>35</th>\n",
       "      <td>Pclass_3</td>\n",
       "      <td>0.048362</td>\n",
       "    </tr>\n",
       "    <tr>\n",
       "      <th>4</th>\n",
       "      <td>Name_Title_2</td>\n",
       "      <td>0.032381</td>\n",
       "    </tr>\n",
       "    <tr>\n",
       "      <th>22</th>\n",
       "      <td>Cabin_First_Letter_1</td>\n",
       "      <td>0.029628</td>\n",
       "    </tr>\n",
       "    <tr>\n",
       "      <th>30</th>\n",
       "      <td>Fam_Size_Big</td>\n",
       "      <td>0.029335</td>\n",
       "    </tr>\n",
       "    <tr>\n",
       "      <th>33</th>\n",
       "      <td>Pclass_1</td>\n",
       "      <td>0.022717</td>\n",
       "    </tr>\n",
       "    <tr>\n",
       "      <th>31</th>\n",
       "      <td>Fam_Size_Nuclear</td>\n",
       "      <td>0.021784</td>\n",
       "    </tr>\n",
       "    <tr>\n",
       "      <th>8</th>\n",
       "      <td>Ticket_First_Letter_1</td>\n",
       "      <td>0.018540</td>\n",
       "    </tr>\n",
       "    <tr>\n",
       "      <th>36</th>\n",
       "      <td>Small_Age</td>\n",
       "      <td>0.015108</td>\n",
       "    </tr>\n",
       "    <tr>\n",
       "      <th>34</th>\n",
       "      <td>Pclass_2</td>\n",
       "      <td>0.014026</td>\n",
       "    </tr>\n",
       "    <tr>\n",
       "      <th>9</th>\n",
       "      <td>Ticket_First_Letter_2</td>\n",
       "      <td>0.012947</td>\n",
       "    </tr>\n",
       "    <tr>\n",
       "      <th>40</th>\n",
       "      <td>Fare_2_3</td>\n",
       "      <td>0.012604</td>\n",
       "    </tr>\n",
       "    <tr>\n",
       "      <th>29</th>\n",
       "      <td>Embarked_S</td>\n",
       "      <td>0.011787</td>\n",
       "    </tr>\n",
       "    <tr>\n",
       "      <th>42</th>\n",
       "      <td>Fare_4_5</td>\n",
       "      <td>0.011441</td>\n",
       "    </tr>\n",
       "    <tr>\n",
       "      <th>32</th>\n",
       "      <td>Fam_Size_Solo</td>\n",
       "      <td>0.010994</td>\n",
       "    </tr>\n",
       "  </tbody>\n",
       "</table>\n",
       "</div>"
      ],
      "text/plain": [
       "                 variable  importance\n",
       "3            Name_Title_1    0.138469\n",
       "2                   Sex_1    0.119839\n",
       "1                   Sex_0    0.114148\n",
       "0                    Fare    0.087414\n",
       "7                Name_len    0.081790\n",
       "6            Name_Title_5    0.053304\n",
       "35               Pclass_3    0.048362\n",
       "4            Name_Title_2    0.032381\n",
       "22   Cabin_First_Letter_1    0.029628\n",
       "30           Fam_Size_Big    0.029335\n",
       "33               Pclass_1    0.022717\n",
       "31       Fam_Size_Nuclear    0.021784\n",
       "8   Ticket_First_Letter_1    0.018540\n",
       "36              Small_Age    0.015108\n",
       "34               Pclass_2    0.014026\n",
       "9   Ticket_First_Letter_2    0.012947\n",
       "40               Fare_2_3    0.012604\n",
       "29             Embarked_S    0.011787\n",
       "42               Fare_4_5    0.011441\n",
       "32          Fam_Size_Solo    0.010994"
      ]
     },
     "execution_count": 63,
     "metadata": {},
     "output_type": "execute_result"
    }
   ],
   "source": [
    "pd.concat((pd.DataFrame(train.columns, columns = ['variable']), \n",
    "           pd.DataFrame(rf_.feature_importances_, columns = ['importance'])), \n",
    "          axis = 1).sort_values(by='importance', ascending = False)[:20]"
   ]
  },
  {
   "cell_type": "code",
   "execution_count": 64,
   "id": "de12e10b",
   "metadata": {
    "execution": {
     "iopub.execute_input": "2021-11-25T09:16:58.848292Z",
     "iopub.status.busy": "2021-11-25T09:16:58.847713Z",
     "iopub.status.idle": "2021-11-25T09:16:59.068033Z",
     "shell.execute_reply": "2021-11-25T09:16:59.067316Z",
     "shell.execute_reply.started": "2021-11-25T09:15:56.677533Z"
    },
    "papermill": {
     "duration": 0.294112,
     "end_time": "2021-11-25T09:16:59.068213",
     "exception": false,
     "start_time": "2021-11-25T09:16:58.774101",
     "status": "completed"
    },
    "tags": []
   },
   "outputs": [],
   "source": [
    "submit = pd.read_csv('../input/titanic/gender_submission.csv')\n",
    "submit.set_index('PassengerId',inplace=True)\n",
    "res_rf = rf_.predict(test)\n",
    "submit['Survived'] = res_rf\n",
    "submit['Survived'] = submit['Survived'].apply(int)\n",
    "submit.to_csv('submit.csv')"
   ]
  }
 ],
 "metadata": {
  "kernelspec": {
   "display_name": "Python 3",
   "language": "python",
   "name": "python3"
  },
  "language_info": {
   "codemirror_mode": {
    "name": "ipython",
    "version": 3
   },
   "file_extension": ".py",
   "mimetype": "text/x-python",
   "name": "python",
   "nbconvert_exporter": "python",
   "pygments_lexer": "ipython3",
   "version": "3.7.10"
  },
  "papermill": {
   "default_parameters": {},
   "duration": 34.449004,
   "end_time": "2021-11-25T09:16:59.947177",
   "environment_variables": {},
   "exception": null,
   "input_path": "__notebook__.ipynb",
   "output_path": "__notebook__.ipynb",
   "parameters": {},
   "start_time": "2021-11-25T09:16:25.498173",
   "version": "2.3.3"
  }
 },
 "nbformat": 4,
 "nbformat_minor": 5
}
